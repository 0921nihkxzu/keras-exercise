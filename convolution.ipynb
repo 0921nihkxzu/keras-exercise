{
 "cells": [
  {
   "cell_type": "code",
   "execution_count": 1,
   "metadata": {},
   "outputs": [],
   "source": [
    "import numpy as np\n",
    "import matplotlib.pyplot as plt"
   ]
  },
  {
   "cell_type": "markdown",
   "metadata": {},
   "source": [
    "### Testing convolution concept "
   ]
  },
  {
   "cell_type": "code",
   "execution_count": 29,
   "metadata": {},
   "outputs": [],
   "source": [
    "img = np.array([\n",
    "    [1,1,1,1,-1,-1,-1],\n",
    "    [1,1,1,1,-1,-1,-1],\n",
    "    [1,1,1,1,-1,-1,-1],\n",
    "    [1,1,1,1,-1,-1,-1],\n",
    "    [1,1,1,1,-1,-1,-1],\n",
    "    [1,1,1,1,-1,-1,-1],\n",
    "    [1,1,1,1,-1,-1,-1],\n",
    "])"
   ]
  },
  {
   "cell_type": "code",
   "execution_count": 30,
   "metadata": {},
   "outputs": [
    {
     "data": {
      "text/plain": [
       "<matplotlib.image.AxesImage at 0x7fc4556d91d0>"
      ]
     },
     "execution_count": 30,
     "metadata": {},
     "output_type": "execute_result"
    },
    {
     "data": {
      "image/png": "[encoded data removed]",
      "text/plain": [
       "<Figure size 432x288 with 1 Axes>"
      ]
     },
     "metadata": {
      "needs_background": "light"
     },
     "output_type": "display_data"
    }
   ],
   "source": [
    "plt.imshow(img)"
   ]
  },
  {
   "cell_type": "code",
   "execution_count": 31,
   "metadata": {},
   "outputs": [],
   "source": [
    "W = np.array([\n",
    "    [1, 0, -1], \n",
    "    [1, 0, -1], \n",
    "    [1, 0, -1]\n",
    "])"
   ]
  },
  {
   "cell_type": "code",
   "execution_count": 32,
   "metadata": {},
   "outputs": [],
   "source": [
    "n = img.shape[0]\n",
    "f = W.shape[0]\n",
    "p = 0\n",
    "s = 1\n",
    "a = int((n+2*p-f)/s)+1"
   ]
  },
  {
   "cell_type": "code",
   "execution_count": 33,
   "metadata": {},
   "outputs": [],
   "source": [
    "y = np.zeros((a,a))"
   ]
  },
  {
   "cell_type": "code",
   "execution_count": 34,
   "metadata": {},
   "outputs": [],
   "source": [
    "for i in range(a):\n",
    "    for j in range(a):\n",
    "        y[i, j] = np.sum((img[i:i+f,j:j+f]*W))"
   ]
  },
  {
   "cell_type": "code",
   "execution_count": 35,
   "metadata": {},
   "outputs": [
    {
     "data": {
      "text/plain": [
       "<matplotlib.image.AxesImage at 0x7fc4556b7048>"
      ]
     },
     "execution_count": 35,
     "metadata": {},
     "output_type": "execute_result"
    },
    {
     "data": {
      "image/png": "[encoded data removed]",
      "text/plain": [
       "<Figure size 432x288 with 1 Axes>"
      ]
     },
     "metadata": {
      "needs_background": "light"
     },
     "output_type": "display_data"
    }
   ],
   "source": [
    "plt.imshow(y)"
   ]
  },
  {
   "cell_type": "markdown",
   "metadata": {},
   "source": [
    "### MNIST with fully connected"
   ]
  },
  {
   "cell_type": "markdown",
   "metadata": {},
   "source": [
    "Obtaining dataset"
   ]
  },
  {
   "cell_type": "code",
   "execution_count": 9,
   "metadata": {},
   "outputs": [
    {
     "name": "stderr",
     "output_type": "stream",
     "text": [
      "Using TensorFlow backend.\n"
     ]
    }
   ],
   "source": [
    "from keras.datasets import mnist"
   ]
  },
  {
   "cell_type": "code",
   "execution_count": 10,
   "metadata": {},
   "outputs": [],
   "source": [
    "(x_train, y_train), (x_test, y_test) = mnist.load_data()"
   ]
  },
  {
   "cell_type": "markdown",
   "metadata": {},
   "source": [
    "One-hot encoding labels"
   ]
  },
  {
   "cell_type": "code",
   "execution_count": 11,
   "metadata": {},
   "outputs": [],
   "source": [
    "def one_hot_encode(y):\n",
    "    \n",
    "    shape = tuple(list(y.shape)+[np.max(y)+1])\n",
    "    l = np.zeros(shape)\n",
    "    \n",
    "    l[np.arange(l.shape[0]),y] = 1\n",
    "    \n",
    "    return l"
   ]
  },
  {
   "cell_type": "code",
   "execution_count": 12,
   "metadata": {},
   "outputs": [],
   "source": [
    "Y_train = one_hot_encode(y_train).T"
   ]
  },
  {
   "cell_type": "code",
   "execution_count": 13,
   "metadata": {},
   "outputs": [],
   "source": [
    "Y_test = one_hot_encode(y_test).T"
   ]
  },
  {
   "cell_type": "markdown",
   "metadata": {},
   "source": [
    "Flattening inputs"
   ]
  },
  {
   "cell_type": "code",
   "execution_count": 14,
   "metadata": {},
   "outputs": [],
   "source": [
    "m, h, w = x_train.shape"
   ]
  },
  {
   "cell_type": "code",
   "execution_count": 15,
   "metadata": {},
   "outputs": [],
   "source": [
    "X_train = x_train.reshape(m, h*w).T"
   ]
  },
  {
   "cell_type": "code",
   "execution_count": 16,
   "metadata": {},
   "outputs": [],
   "source": [
    "n, h, w = x_test.shape"
   ]
  },
  {
   "cell_type": "code",
   "execution_count": 17,
   "metadata": {},
   "outputs": [],
   "source": [
    "X_test = x_test.reshape(n, h*w).T"
   ]
  },
  {
   "cell_type": "markdown",
   "metadata": {},
   "source": [
    "Creating model"
   ]
  },
  {
   "cell_type": "code",
   "execution_count": 18,
   "metadata": {},
   "outputs": [],
   "source": [
    "from meik.models import Sequential\n",
    "from meik.layers import Layer, Dense, Dropout, Batch_norm"
   ]
  },
  {
   "cell_type": "code",
   "execution_count": 19,
   "metadata": {},
   "outputs": [],
   "source": [
    "model = Sequential()"
   ]
  },
  {
   "cell_type": "code",
   "execution_count": 20,
   "metadata": {},
   "outputs": [],
   "source": [
    "model.add(Dense(units=64, activation='relu', inputs=28*28))\n",
    "model.add(Batch_norm())\n",
    "model.add(Dense(units=32, activation='relu'))\n",
    "model.add(Batch_norm())\n",
    "model.add(Dense(units=16, activation='relu'))\n",
    "model.add(Batch_norm())\n",
    "model.add(Dense(units=10, activation='softmax'))"
   ]
  },
  {
   "cell_type": "code",
   "execution_count": 21,
   "metadata": {},
   "outputs": [],
   "source": [
    "from meik import optimizers\n",
    "optimizer = optimizers.Adam()"
   ]
  },
  {
   "cell_type": "code",
   "execution_count": 22,
   "metadata": {},
   "outputs": [],
   "source": [
    "metrics = ['accuracy', 'binary_crossentropy', 'confusion_matrix']"
   ]
  },
  {
   "cell_type": "code",
   "execution_count": 23,
   "metadata": {},
   "outputs": [],
   "source": [
    "model.build(loss='categorical_crossentropy', optimizer=optimizer, eval_metrics=metrics)#, normalization='normal')#"
   ]
  },
  {
   "cell_type": "code",
   "execution_count": 24,
   "metadata": {},
   "outputs": [
    {
     "name": "stdout",
     "output_type": "stream",
     "text": [
      "Epoch 1/1 - loss_tot: 0.2743 - reg_loss: 0.0000 - categorical_crossentropy: 0.2743\n",
      "------------ Final performance ------------\n",
      "\n",
      "Epoch 1/1 - loss_tot: 0.2743 - reg_loss: 0.0000 - categorical_crossentropy: 0.2743\n"
     ]
    }
   ],
   "source": [
    "model.train(X_train, Y_train, batch_size=64, epochs=1, verbose=1)"
   ]
  },
  {
   "cell_type": "code",
   "execution_count": 25,
   "metadata": {},
   "outputs": [],
   "source": [
    "from meik.utils.misc import plot_training_loss"
   ]
  },
  {
   "cell_type": "code",
   "execution_count": 26,
   "metadata": {},
   "outputs": [
    {
     "data": {
      "image/png": "[encoded data removed]",
      "text/plain": [
       "<Figure size 432x288 with 1 Axes>"
      ]
     },
     "metadata": {
      "needs_background": "light"
     },
     "output_type": "display_data"
    }
   ],
   "source": [
    "plot_training_loss(model, loss=model.params['loss'], mode='batch')"
   ]
  },
  {
   "cell_type": "code",
   "execution_count": 27,
   "metadata": {},
   "outputs": [],
   "source": [
    "score = model.evaluate(X_test,Y_test)"
   ]
  },
  {
   "cell_type": "markdown",
   "metadata": {},
   "source": [
    "### Extending to full layer with multiple channels and training examples "
   ]
  },
  {
   "cell_type": "markdown",
   "metadata": {},
   "source": [
    "Defining an input"
   ]
  },
  {
   "cell_type": "code",
   "execution_count": null,
   "metadata": {},
   "outputs": [],
   "source": [
    "m = 12\n",
    "nh_0 = 64\n",
    "nw_0 = 64\n",
    "nc_0 = 3"
   ]
  },
  {
   "cell_type": "code",
   "execution_count": null,
   "metadata": {},
   "outputs": [],
   "source": [
    "A_0 = np.random.rand(m, nh_0, nw_0, nc_0)\n",
    "#A_0 = np.expand_dims(A_0,axis=len(A_0.shape))"
   ]
  },
  {
   "cell_type": "markdown",
   "metadata": {},
   "source": [
    "Defining layer parameters"
   ]
  },
  {
   "cell_type": "code",
   "execution_count": null,
   "metadata": {},
   "outputs": [],
   "source": [
    "from meik.utils.activations import relu, drelu"
   ]
  },
  {
   "cell_type": "code",
   "execution_count": null,
   "metadata": {},
   "outputs": [],
   "source": [
    "f_1 = 5\n",
    "nc_1 = 10\n",
    "s_1 = 1\n",
    "p_1 = 0\n",
    "g_1 = relu\n",
    "dg_1 = drelu"
   ]
  },
  {
   "cell_type": "code",
   "execution_count": null,
   "metadata": {},
   "outputs": [],
   "source": [
    "nh_1 = int((nh_0+2*p_1-f_1)/s_1)+1\n",
    "nw_1 = int((nw_0+2*p_1-f_1)/s_1)+1"
   ]
  },
  {
   "cell_type": "markdown",
   "metadata": {},
   "source": [
    "Defining layer variables"
   ]
  },
  {
   "cell_type": "code",
   "execution_count": null,
   "metadata": {},
   "outputs": [],
   "source": [
    "W_1 = np.random.rand(f_1, f_1, nc_0, nc_1)"
   ]
  },
  {
   "cell_type": "code",
   "execution_count": null,
   "metadata": {},
   "outputs": [],
   "source": [
    "b_1 = np.random.rand(1, 1, 1, nc_1)"
   ]
  },
  {
   "cell_type": "code",
   "execution_count": null,
   "metadata": {},
   "outputs": [],
   "source": [
    "Z_1 = np.zeros((m,nh_1,nw_1,nc_1))"
   ]
  },
  {
   "cell_type": "markdown",
   "metadata": {},
   "source": [
    "Computing forwardprop"
   ]
  },
  {
   "cell_type": "code",
   "execution_count": null,
   "metadata": {},
   "outputs": [],
   "source": [
    "for i in range(nh_1):\n",
    "    for j in range(nw_1):\n",
    "        axes = tuple(i for i in range(1,len(Z_1.shape)))\n",
    "        # Note on np.newaxis: extension of A dimension such that it is copied along the additional axis for multiplication\n",
    "        Z_1[:, i, j, :] = np.sum((A_0[:,i:i+f_1,j:j+f_1,:,np.newaxis]*W_1), axis=axes) + b_1\n",
    "A_1 = g_1(Z_1)"
   ]
  },
  {
   "cell_type": "markdown",
   "metadata": {},
   "source": [
    "### Computing backprop"
   ]
  },
  {
   "cell_type": "code",
   "execution_count": null,
   "metadata": {},
   "outputs": [],
   "source": [
    "dA_1 = np.random.random(A_1.shape)"
   ]
  },
  {
   "cell_type": "code",
   "execution_count": null,
   "metadata": {},
   "outputs": [],
   "source": [
    "dZ_1 = dg_1(A_1)*dA_1"
   ]
  },
  {
   "cell_type": "code",
   "execution_count": null,
   "metadata": {},
   "outputs": [],
   "source": [
    "axes = tuple(i for i in range(0,len(dA_1.shape)-1))\n",
    "db_1 = np.sum(dZ_1, axis=axes, keepdims=True)"
   ]
  },
  {
   "cell_type": "code",
   "execution_count": null,
   "metadata": {},
   "outputs": [],
   "source": [
    "#For 2D input, single example, single filter\n",
    "\n",
    "A = A_0[0,:,:,0]\n",
    "W = W_1[:,:,0,0]\n",
    "dZ = dZ_1[0,:,:,0]\n",
    "dW = np.zeros(W.shape)\n",
    "dA = np.zeros(A.shape)\n",
    "\n",
    "for i in range(nh_1):\n",
    "    \n",
    "    for j in range(nw_1):\n",
    "\n",
    "            dW += A[i:i+f_1,j:j+f_1]*dZ[i,j]\n",
    "            \n",
    "            dA[i:i+f_1,j:j+f_1] += dZ[i,j]*W"
   ]
  },
  {
   "cell_type": "code",
   "execution_count": null,
   "metadata": {},
   "outputs": [],
   "source": [
    "#For 3D input, single example, single filter\n",
    "\n",
    "A = A_0[0,:,:,:]\n",
    "W = W_1[:,:,:,0]\n",
    "dZ = dZ_1[0,:,:,0]\n",
    "dW = np.zeros(W.shape)\n",
    "dA = np.zeros(A.shape)\n",
    "\n",
    "for i in range(nh_1):\n",
    "    \n",
    "    for j in range(nw_1):\n",
    "    \n",
    "            dW += A[i:i+f_1,j:j+f_1,:]*dZ[i,j]\n",
    "            \n",
    "            dA[i:i+f_1,j:j+f_1,:] += dZ[i,j]*W"
   ]
  },
  {
   "cell_type": "code",
   "execution_count": null,
   "metadata": {},
   "outputs": [],
   "source": [
    "#For 3D input, single example, multiple filters\n",
    "\n",
    "A = A_0[0,:,:,:] \n",
    "W = W_1[:,:,:,:]\n",
    "dZ = dZ_1[0,:,:,:]\n",
    "dW = np.zeros(W.shape)\n",
    "dA = np.zeros(A.shape)\n",
    "\n",
    "for i in range(nh_1):\n",
    "    \n",
    "    for j in range(nw_1):\n",
    "    \n",
    "            dW += A[i:i+f_1,j:j+f_1,:,np.newaxis]*dZ[i,j,:]\n",
    "            \n",
    "            dA[i:i+f_1,j:j+f_1,:] += np.sum(W*dZ[i,j,:], axis=3, keepdims=False) #summing across layer 1 filters"
   ]
  },
  {
   "cell_type": "code",
   "execution_count": null,
   "metadata": {},
   "outputs": [],
   "source": [
    "#For 3D input, multiple examples, multiple filter\n",
    "\n",
    "A = A_0[:,:,:,:] \n",
    "W = W_1[:,:,:,:]\n",
    "dZ = dZ_1[:,:,:,:]\n",
    "dW = np.zeros(W.shape)\n",
    "dA = np.zeros(A.shape)\n",
    "\n",
    "for i in range(nh_1):\n",
    "    \n",
    "    for j in range(nw_1):\n",
    "        \n",
    "            A_ = A[:,i:i+f_1,j:j+f_1,:,np.newaxis]\n",
    "            dZ_ = dZ[:,i,j,:][:,np.newaxis,np.newaxis,np.newaxis,:] \n",
    "            \n",
    "            dW += np.sum(A_*dZ_, axis=0, keepdims=False)\n",
    "            \n",
    "            W_ = W[np.newaxis]\n",
    "            \n",
    "            dA[:,i:i+f_1,j:j+f_1,:] += np.sum(W_*dZ_, axis=4, keepdims=False)"
   ]
  },
  {
   "cell_type": "code",
   "execution_count": null,
   "metadata": {},
   "outputs": [],
   "source": [
    "A_.shape"
   ]
  },
  {
   "cell_type": "code",
   "execution_count": null,
   "metadata": {},
   "outputs": [],
   "source": [
    "dZ_.shape"
   ]
  },
  {
   "cell_type": "code",
   "execution_count": null,
   "metadata": {},
   "outputs": [],
   "source": [
    "(A_*dZ_).shape"
   ]
  },
  {
   "cell_type": "code",
   "execution_count": null,
   "metadata": {},
   "outputs": [],
   "source": [
    "np.sum(A_*dZ_, axis=0, keepdims=False).shape"
   ]
  },
  {
   "cell_type": "markdown",
   "metadata": {},
   "source": [
    "### Convolution layer class"
   ]
  },
  {
   "cell_type": "code",
   "execution_count": null,
   "metadata": {},
   "outputs": [],
   "source": [
    "from meik.layers import Layer\n",
    "from meik.initializer import Initializer\n",
    "from meik.utils import activations\n",
    "\n",
    "class Convolution3D(Layer):\n",
    "    \n",
    "    def __init__(self, filters, kernel_size, strides = 1, padding = 'valid', inputs = None, units = None, activation = None, initialization = None, init_params = None):\n",
    "        \n",
    "        Layer.__init__(self)\n",
    "        \n",
    "        self.id = None\n",
    "\n",
    "        self.inputs = inputs\n",
    "        self.units = units\n",
    "        self.activation = activation\n",
    "        self.optimizer = None #this gets assigned by model in model.build()\n",
    "        \n",
    "        self.f = kernel_size\n",
    "        self.nc = filters\n",
    "        self.s = strides\n",
    "\n",
    "        if padding == 'valid':\n",
    "            self.p = 0\n",
    "        elif padding == 'same':\n",
    "            self.p = kernel_size/2\n",
    "\n",
    "        # setting activation methods\n",
    "        self.g = getattr(activations, activation)\n",
    "        self.dg = getattr(activations, 'd'+activation)\n",
    "\n",
    "        # setting initializer\n",
    "        self.initializer = Initializer(activation = activation, initialization = initialization, init_params = init_params)\n",
    "\n",
    "        # declaring important variables            \n",
    "        self.W = None\n",
    "        self.b = None\n",
    "        self.A = None\n",
    "        self.A0 = None\n",
    "\n",
    "        self.dW = None\n",
    "        self.db = None\n",
    "\n",
    "        # setting prediction of layer as forwardprop\n",
    "        self.predict = self.forwardprop\n",
    "        self.grad_check_predict = self.forwardprop\n",
    "\n",
    "    def init(self, _id, inputs):\n",
    "        \n",
    "        self.id = _id\n",
    "        self.inputs = inputs\n",
    "\n",
    "        f = self.f\n",
    "        s = self.s\n",
    "        p = self.p\n",
    "        nc = self.nc\n",
    "        \n",
    "        nh_0, nw_0, nc_0 = inputs\n",
    "\n",
    "        self.nh = int((nh_0+2*p-f)/s)+1\n",
    "        self.nw = int((nw_0+2*p-f)/s)+1\n",
    "    \n",
    "        self.units = (self.nh, self.nw, self.nc)\n",
    "        \n",
    "        self.W = self.initializer.initialize((f,f,nc_0,nc))\n",
    "        self.b = np.zeros((1, 1, 1, nc))\n",
    "\n",
    "# http://cs231n.github.io/convolutional-networks/\n",
    "# implement matrix multiplication version\n",
    "\n",
    "    def forwardprop(self, A0):\n",
    "\n",
    "        g = self.g\n",
    "        W = self.W\n",
    "        b = self.b\n",
    "\n",
    "        nh = self.nh\n",
    "        nw = self.nw\n",
    "        nc = self.nc\n",
    "\n",
    "        m = A0.shape[0]\n",
    "\n",
    "        Z = np.zeros((m,nh,nw,nc))\n",
    "        \n",
    "        axes = tuple(i for i in range(1,len(Z.shape)))\n",
    "\n",
    "        for i in range(nh_1):\n",
    "            for j in range(nw_1):\n",
    "                # Note on np.newaxis: extension of A dimension such that it is copied along the additional axis for multiplication\n",
    "                Z[:, i, j, :] = np.sum((A0[:,i:i+f_1,j:j+f_1,:,np.newaxis]*W), axis=axes) + b\n",
    "        A = g(Z)\n",
    "\n",
    "        self.A = A\n",
    "        self.A0 = A0\n",
    "\n",
    "        return A\n",
    "\n",
    "    def backprop(self, dA0):\n",
    "\n",
    "        dg = self.dg\n",
    "        W = self.W\n",
    "        A0 = self.A0\n",
    "        A = self.A\n",
    "        \n",
    "        nh = self.nh\n",
    "        nw = self.nw\n",
    "\n",
    "        m = A.shape[0]\n",
    "\n",
    "        dW = np.zeros(W.shape)\n",
    "        dA = np.zeros(A0.shape)\n",
    "\n",
    "        dZ = dA0*self.dg(A)\n",
    "\n",
    "        axes = tuple(i for i in range(1,len(dZ.shape)))\n",
    "        db = np.sum(dZ, axis=axes, keepdims=True)\n",
    "\n",
    "        for i in range(nh):\n",
    "            \n",
    "            for j in range(nw):\n",
    "                \n",
    "                    A0_ = A0[:,i:i+f_1,j:j+f_1,:,np.newaxis]\n",
    "                    dZ_ = dZ[:,i,j,:][:,np.newaxis,np.newaxis,np.newaxis,:] \n",
    "                    dW += 1./m * np.sum(A0_*dZ_, axis=0, keepdims=False)\n",
    "                    \n",
    "                    W_ = W[np.newaxis]\n",
    "                    \n",
    "                    dA[:,i:i+f_1,j:j+f_1,:] += np.sum(W_*dZ_, axis=4, keepdims=False)\n",
    "\n",
    "        self.dW = dW\n",
    "        self.db = db\n",
    "\n",
    "        return dA\n",
    "    \n",
    "    def update(self):\n",
    "\n",
    "        W = self.W\n",
    "        b = self.b\n",
    "        dW = self.dW\n",
    "        db = self.db\n",
    "\n",
    "        W, b = self.optimizer.update(W, b, dW, db)\n",
    "\n",
    "        self.W = W\n",
    "        self.b = b"
   ]
  },
  {
   "cell_type": "markdown",
   "metadata": {},
   "source": [
    "### Testing forwardprop"
   ]
  },
  {
   "cell_type": "code",
   "execution_count": null,
   "metadata": {},
   "outputs": [],
   "source": [
    "m = 12\n",
    "nh_0 = 64\n",
    "nw_0 = 64\n",
    "nc_0 = 3"
   ]
  },
  {
   "cell_type": "code",
   "execution_count": null,
   "metadata": {},
   "outputs": [],
   "source": [
    "A_0 = np.random.rand(m, nh_0, nw_0, nc_0)"
   ]
  },
  {
   "cell_type": "code",
   "execution_count": null,
   "metadata": {},
   "outputs": [],
   "source": [
    "f_1 = 5\n",
    "nc_1 = 10\n",
    "s_1 = 1\n",
    "p_1 = 0"
   ]
  },
  {
   "cell_type": "code",
   "execution_count": null,
   "metadata": {},
   "outputs": [],
   "source": [
    "L1 = Convolution3D(nc_1, f_1, activation = 'relu', inputs = (nh_0, nw_0, nc_0))"
   ]
  },
  {
   "cell_type": "code",
   "execution_count": null,
   "metadata": {},
   "outputs": [],
   "source": [
    "L1.init(0, (nh_0, nw_0, nc_0))"
   ]
  },
  {
   "cell_type": "code",
   "execution_count": null,
   "metadata": {},
   "outputs": [],
   "source": [
    "A1 = L1.forwardprop(A_0)"
   ]
  },
  {
   "cell_type": "markdown",
   "metadata": {},
   "source": [
    "### Testing backprop"
   ]
  },
  {
   "cell_type": "code",
   "execution_count": null,
   "metadata": {},
   "outputs": [],
   "source": [
    "dA = L1.backprop(dA_1)"
   ]
  },
  {
   "cell_type": "markdown",
   "metadata": {},
   "source": [
    "### Gradient checking"
   ]
  },
  {
   "cell_type": "code",
   "execution_count": null,
   "metadata": {},
   "outputs": [],
   "source": [
    "from meik.models import Sequential\n",
    "from meik.utils import gradient_check"
   ]
  },
  {
   "cell_type": "code",
   "execution_count": null,
   "metadata": {},
   "outputs": [],
   "source": [
    "model = Sequential()"
   ]
  },
  {
   "cell_type": "code",
   "execution_count": null,
   "metadata": {},
   "outputs": [],
   "source": [
    "model.add(Convolution3D(nc_1, f_1, strides = s_1, padding = 'valid', activation = 'relu', inputs = (nh_0, nw_0, nc_0)))"
   ]
  },
  {
   "cell_type": "code",
   "execution_count": null,
   "metadata": {},
   "outputs": [],
   "source": [
    "X = A_0"
   ]
  },
  {
   "cell_type": "code",
   "execution_count": null,
   "metadata": {},
   "outputs": [],
   "source": [
    "A = model.forwardprop(X)"
   ]
  },
  {
   "cell_type": "code",
   "execution_count": null,
   "metadata": {},
   "outputs": [],
   "source": [
    "theta, dtheta = gradient_check.get_params(model)"
   ]
  },
  {
   "cell_type": "code",
   "execution_count": null,
   "metadata": {},
   "outputs": [],
   "source": [
    "dtheta = np.zeros(theta.shape)\n",
    "\n",
    "dAdtheta_list = []\n",
    "epsilon = 1e-7\n",
    "\n",
    "for i in range(10):\n",
    "\n",
    "    tplus = theta.copy()   \n",
    "    tplus[i] += epsilon\n",
    "    \n",
    "    model = gradient_check.set_params(model,tplus)\n",
    "    dAplus = model.layers[0].forwardprop(X)\n",
    "    \n",
    "    tminus = theta.copy()\n",
    "    tminus[i] -= epsilon\n",
    "    \n",
    "    model = gradient_check.set_params(model,tminus)\n",
    "    dAminus = model.layers[0].forwardprop(X)\n",
    "    \n",
    "    dAdtheta = (dAplus - dAminus)/(2*epsilon)\n",
    "    dAdtheta_list.append(dAdtheta)"
   ]
  },
  {
   "cell_type": "code",
   "execution_count": null,
   "metadata": {},
   "outputs": [],
   "source": [
    "dAdtheta_list[0].shape"
   ]
  },
  {
   "cell_type": "code",
   "execution_count": null,
   "metadata": {},
   "outputs": [],
   "source": [
    "dLdA = np.ones(dAdtheta.shape)"
   ]
  },
  {
   "cell_type": "code",
   "execution_count": null,
   "metadata": {},
   "outputs": [],
   "source": [
    "dA = L1.backprop(dLdA)"
   ]
  },
  {
   "cell_type": "code",
   "execution_count": null,
   "metadata": {},
   "outputs": [],
   "source": [
    "L1.dW"
   ]
  },
  {
   "cell_type": "code",
   "execution_count": null,
   "metadata": {},
   "outputs": [],
   "source": []
  }
 ],
 "metadata": {
  "kernelspec": {
   "display_name": "Python 3",
   "language": "python",
   "name": "python3"
  },
  "language_info": {
   "codemirror_mode": {
    "name": "ipython",
    "version": 3
   },
   "file_extension": ".py",
   "mimetype": "text/x-python",
   "name": "python",
   "nbconvert_exporter": "python",
   "pygments_lexer": "ipython3",
   "version": "3.6.6"
  }
 },
 "nbformat": 4,
 "nbformat_minor": 2
}
