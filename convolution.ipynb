{
 "cells": [
  {
   "cell_type": "code",
   "execution_count": 1,
   "metadata": {},
   "outputs": [],
   "source": [
    "import numpy as np\n",
    "import matplotlib.pyplot as plt"
   ]
  },
  {
   "cell_type": "markdown",
   "metadata": {},
   "source": [
    "### testing"
   ]
  },
  {
   "cell_type": "code",
   "execution_count": 2,
   "metadata": {},
   "outputs": [],
   "source": [
    "img = np.array([\n",
    "    [1,1,1,1,-1,-1,-1],\n",
    "    [1,1,1,1,-1,-1,-1],\n",
    "    [1,1,1,1,-1,-1,-1],\n",
    "    [1,1,1,1,-1,-1,-1],\n",
    "    [1,1,1,1,-1,-1,-1],\n",
    "    [1,1,1,1,-1,-1,-1],\n",
    "    [1,1,1,1,-1,-1,-1],\n",
    "])"
   ]
  },
  {
   "cell_type": "code",
   "execution_count": 3,
   "metadata": {},
   "outputs": [
    {
     "data": {
      "text/plain": [
       "<matplotlib.image.AxesImage at 0x7f27f2fa8c50>"
      ]
     },
     "execution_count": 3,
     "metadata": {},
     "output_type": "execute_result"
    },
    {
     "data": {
      "image/png": "[encoded data removed]",
      "text/plain": [
       "<Figure size 432x288 with 1 Axes>"
      ]
     },
     "metadata": {
      "needs_background": "light"
     },
     "output_type": "display_data"
    }
   ],
   "source": [
    "plt.imshow(img)"
   ]
  },
  {
   "cell_type": "code",
   "execution_count": 4,
   "metadata": {},
   "outputs": [],
   "source": [
    "W = np.array([\n",
    "    [1, 0, -1], \n",
    "    [1, 0, -1], \n",
    "    [1, 0, -1]\n",
    "])"
   ]
  },
  {
   "cell_type": "code",
   "execution_count": 5,
   "metadata": {},
   "outputs": [],
   "source": [
    "n = img.shape[0]\n",
    "f = W.shape[0]\n",
    "p = 0\n",
    "s = 1\n",
    "a = int((n+2*p-f)/s)+1"
   ]
  },
  {
   "cell_type": "code",
   "execution_count": 6,
   "metadata": {},
   "outputs": [],
   "source": [
    "y = np.zeros((a,a))"
   ]
  },
  {
   "cell_type": "code",
   "execution_count": 7,
   "metadata": {},
   "outputs": [],
   "source": [
    "for i in range(a):\n",
    "    for j in range(a):\n",
    "        y[i, j] = np.sum((img[i:i+f,j:j+f]*W))"
   ]
  },
  {
   "cell_type": "code",
   "execution_count": 8,
   "metadata": {},
   "outputs": [
    {
     "data": {
      "text/plain": [
       "<matplotlib.image.AxesImage at 0x7f27f2ecff60>"
      ]
     },
     "execution_count": 8,
     "metadata": {},
     "output_type": "execute_result"
    },
    {
     "data": {
      "image/png": "[encoded data removed]",
      "text/plain": [
       "<Figure size 432x288 with 1 Axes>"
      ]
     },
     "metadata": {
      "needs_background": "light"
     },
     "output_type": "display_data"
    }
   ],
   "source": [
    "plt.imshow(y)"
   ]
  },
  {
   "cell_type": "markdown",
   "metadata": {},
   "source": [
    "### Extending to full layer with multiple channels and training examples "
   ]
  },
  {
   "cell_type": "markdown",
   "metadata": {},
   "source": [
    "Defining an input"
   ]
  },
  {
   "cell_type": "code",
   "execution_count": 9,
   "metadata": {},
   "outputs": [],
   "source": [
    "m = 12\n",
    "nh_0 = 64\n",
    "nw_0 = 64\n",
    "nc_0 = 3"
   ]
  },
  {
   "cell_type": "code",
   "execution_count": 10,
   "metadata": {},
   "outputs": [],
   "source": [
    "A_0 = np.random.rand(m, nh_0, nw_0, nc_0)\n",
    "#A_0 = np.expand_dims(A_0,axis=len(A_0.shape))"
   ]
  },
  {
   "cell_type": "markdown",
   "metadata": {},
   "source": [
    "Defining layer parameters"
   ]
  },
  {
   "cell_type": "code",
   "execution_count": 11,
   "metadata": {},
   "outputs": [],
   "source": [
    "from meik.utils.activations import relu, drelu"
   ]
  },
  {
   "cell_type": "code",
   "execution_count": 12,
   "metadata": {},
   "outputs": [],
   "source": [
    "f_1 = 5\n",
    "nc_1 = 10\n",
    "s_1 = 1\n",
    "p_1 = 0\n",
    "g_1 = relu\n",
    "dg_1 = drelu"
   ]
  },
  {
   "cell_type": "code",
   "execution_count": 13,
   "metadata": {},
   "outputs": [],
   "source": [
    "nh_1 = int((nh_0+2*p_1-f_1)/s_1)+1\n",
    "nw_1 = int((nw_0+2*p_1-f_1)/s_1)+1"
   ]
  },
  {
   "cell_type": "markdown",
   "metadata": {},
   "source": [
    "Defining layer variables"
   ]
  },
  {
   "cell_type": "code",
   "execution_count": 14,
   "metadata": {},
   "outputs": [],
   "source": [
    "W_1 = np.random.rand(f_1, f_1, nc_0, nc_1)"
   ]
  },
  {
   "cell_type": "code",
   "execution_count": 15,
   "metadata": {},
   "outputs": [],
   "source": [
    "b_1 = np.random.rand(1, 1, 1, nc_1)"
   ]
  },
  {
   "cell_type": "code",
   "execution_count": 16,
   "metadata": {},
   "outputs": [],
   "source": [
    "Z_1 = np.zeros((m,nh_1,nw_1,nc_1))"
   ]
  },
  {
   "cell_type": "markdown",
   "metadata": {},
   "source": [
    "Computing forwardprop"
   ]
  },
  {
   "cell_type": "code",
   "execution_count": 17,
   "metadata": {},
   "outputs": [],
   "source": [
    "for i in range(nh_1):\n",
    "    for j in range(nw_1):\n",
    "        axes = tuple(i for i in range(1,len(Z_1.shape)))\n",
    "        # Note on np.newaxis: extension of A dimension such that it is copied along the additional axis for multiplication\n",
    "        Z_1[:, i, j, :] = np.sum((A_0[:,i:i+f_1,j:j+f_1,:,np.newaxis]*W_1), axis=axes) + b_1\n",
    "A_1 = g_1(Z_1)"
   ]
  },
  {
   "cell_type": "markdown",
   "metadata": {},
   "source": [
    "### Computing backprop"
   ]
  },
  {
   "cell_type": "code",
   "execution_count": 18,
   "metadata": {},
   "outputs": [],
   "source": [
    "dA_1 = np.random.random(A_1.shape)"
   ]
  },
  {
   "cell_type": "code",
   "execution_count": 19,
   "metadata": {},
   "outputs": [],
   "source": [
    "dZ_1 = dg_1(A_1)*dA_1"
   ]
  },
  {
   "cell_type": "code",
   "execution_count": 20,
   "metadata": {},
   "outputs": [],
   "source": [
    "axes = tuple(i for i in range(0,len(dA_1.shape)-1))\n",
    "db_1 = np.sum(dZ_1, axis=axes, keepdims=True)"
   ]
  },
  {
   "cell_type": "code",
   "execution_count": 21,
   "metadata": {},
   "outputs": [],
   "source": [
    "#For 2D input, single example, single filter\n",
    "\n",
    "A = A_0[0,:,:,0]\n",
    "W = W_1[:,:,0,0]\n",
    "dZ = dZ_1[0,:,:,0]\n",
    "dW = np.zeros(W.shape)\n",
    "dA = np.zeros(A.shape)\n",
    "\n",
    "for i in range(nh_1):\n",
    "    \n",
    "    for j in range(nw_1):\n",
    "\n",
    "            dW += A[i:i+f_1,j:j+f_1]*dZ[i,j]\n",
    "            \n",
    "            dA[i:i+f_1,j:j+f_1] += dZ[i,j]*W"
   ]
  },
  {
   "cell_type": "code",
   "execution_count": 22,
   "metadata": {},
   "outputs": [],
   "source": [
    "#For ND input, single example, single filter\n",
    "\n",
    "A = A_0[0,:,:,:]\n",
    "W = W_1[:,:,:,0]\n",
    "dZ = dZ_1[0,:,:,0]\n",
    "dW = np.zeros(W.shape)\n",
    "dA = np.zeros(A.shape)\n",
    "\n",
    "for i in range(nh_1):\n",
    "    \n",
    "    for j in range(nw_1):\n",
    "    \n",
    "            dW += A[i:i+f_1,j:j+f_1,:]*dZ[i,j]\n",
    "            \n",
    "            dA[i:i+f_1,j:j+f_1,:] += dZ[i,j]*W"
   ]
  },
  {
   "cell_type": "code",
   "execution_count": 23,
   "metadata": {},
   "outputs": [],
   "source": [
    "#For ND input, single example, multiple filters\n",
    "\n",
    "A = A_0[0,:,:,:] \n",
    "W = W_1[:,:,:,:]\n",
    "dZ = dZ_1[0,:,:,:]\n",
    "dW = np.zeros(W.shape)\n",
    "dA = np.zeros(A.shape)\n",
    "\n",
    "for i in range(nh_1):\n",
    "    \n",
    "    for j in range(nw_1):\n",
    "    \n",
    "            dW += A[i:i+f_1,j:j+f_1,:,np.newaxis]*dZ[i,j,:]\n",
    "            \n",
    "            dA[i:i+f_1,j:j+f_1,:] += np.sum(W*dZ[i,j,:], axis=3, keepdims=False) #summing across layer 1 filters"
   ]
  },
  {
   "cell_type": "code",
   "execution_count": 24,
   "metadata": {},
   "outputs": [],
   "source": [
    "#For ND input, multiple examples, multiple filter\n",
    "\n",
    "A = A_0[:,:,:,:] \n",
    "W = W_1[:,:,:,:]\n",
    "dZ = dZ_1[:,:,:,:]\n",
    "dW = np.zeros(W.shape)\n",
    "dA = np.zeros(A.shape)\n",
    "\n",
    "for i in range(nh_1):\n",
    "    \n",
    "    for j in range(nw_1):\n",
    "        \n",
    "            A_ = A[:,i:i+f_1,j:j+f_1,:,np.newaxis]\n",
    "            dZ_ = dZ[:,i,j,:][:,np.newaxis,np.newaxis,np.newaxis,:] \n",
    "            \n",
    "            dW += np.sum(A_*dZ_, axis=0, keepdims=False)\n",
    "            \n",
    "            W_ = W[np.newaxis]\n",
    "            \n",
    "            dA[:,i:i+f_1,j:j+f_1,:] += np.sum(W_*dZ_, axis=4, keepdims=False)"
   ]
  },
  {
   "cell_type": "markdown",
   "metadata": {},
   "source": [
    "### Gradient checking backprop"
   ]
  },
  {
   "cell_type": "markdown",
   "metadata": {},
   "source": [
    "TO DO: gradient check of backprop \n",
    "\n",
    "    i) calculate dA_1/dW_1 and dA_1/dA_0 numerically\n",
    "    ii) set dL/dA_1 as something random\n",
    "    iii) thus obtain dL/dW_1 = dL/dA_1*dA_1/dW_1 etc. numerically\n",
    "    iv) calculate dL/dW_1 = d and dL/dA_0 analytically using backprop and the arbitrary dL/dA_1\n",
    "    v) calculate distance\n",
    "    \n",
    "Hopefully no debugging needed :P"
   ]
  },
  {
   "cell_type": "code",
   "execution_count": null,
   "metadata": {},
   "outputs": [],
   "source": []
  }
 ],
 "metadata": {
  "kernelspec": {
   "display_name": "Python 3",
   "language": "python",
   "name": "python3"
  },
  "language_info": {
   "codemirror_mode": {
    "name": "ipython",
    "version": 3
   },
   "file_extension": ".py",
   "mimetype": "text/x-python",
   "name": "python",
   "nbconvert_exporter": "python",
   "pygments_lexer": "ipython3",
   "version": "3.6.6"
  }
 },
 "nbformat": 4,
 "nbformat_minor": 2
}
