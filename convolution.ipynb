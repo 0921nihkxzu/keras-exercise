{
 "cells": [
  {
   "cell_type": "code",
   "execution_count": 1,
   "metadata": {},
   "outputs": [],
   "source": [
    "import numpy as np\n",
    "import matplotlib.pyplot as plt\n",
    "from timeit import timeit"
   ]
  },
  {
   "cell_type": "markdown",
   "metadata": {},
   "source": [
    "### Testing convolution: simple example"
   ]
  },
  {
   "cell_type": "code",
   "execution_count": 2,
   "metadata": {},
   "outputs": [],
   "source": [
    "img = np.array([\n",
    "    [1,1,1,1,-1,-1,-1],\n",
    "    [1,1,1,1,-1,-1,-1],\n",
    "    [1,1,1,1,-1,-1,-1],\n",
    "    [1,1,1,1,-1,-1,-1],\n",
    "    [1,1,1,1,-1,-1,-1],\n",
    "    [1,1,1,1,-1,-1,-1],\n",
    "    [1,1,1,1,-1,-1,-1],\n",
    "])"
   ]
  },
  {
   "cell_type": "code",
   "execution_count": 3,
   "metadata": {},
   "outputs": [
    {
     "data": {
      "text/plain": [
       "<matplotlib.image.AxesImage at 0x7f807466f8d0>"
      ]
     },
     "execution_count": 3,
     "metadata": {},
     "output_type": "execute_result"
    },
    {
     "data": {
      "image/png": "[encoded data removed]",
      "text/plain": [
       "<Figure size 432x288 with 1 Axes>"
      ]
     },
     "metadata": {
      "needs_background": "light"
     },
     "output_type": "display_data"
    }
   ],
   "source": [
    "plt.imshow(img)"
   ]
  },
  {
   "cell_type": "code",
   "execution_count": 4,
   "metadata": {},
   "outputs": [],
   "source": [
    "W = np.array([\n",
    "    [1, 0, -1], \n",
    "    [1, 0, -1], \n",
    "    [1, 0, -1]\n",
    "])"
   ]
  },
  {
   "cell_type": "code",
   "execution_count": 5,
   "metadata": {},
   "outputs": [],
   "source": [
    "n = img.shape[0]\n",
    "f = W.shape[0]\n",
    "p = 0\n",
    "s = 1\n",
    "a = int((n+2*p-f)/s)+1"
   ]
  },
  {
   "cell_type": "code",
   "execution_count": 6,
   "metadata": {},
   "outputs": [],
   "source": [
    "y = np.zeros((a,a))"
   ]
  },
  {
   "cell_type": "code",
   "execution_count": 7,
   "metadata": {},
   "outputs": [],
   "source": [
    "for i in range(a):\n",
    "    for j in range(a):\n",
    "        y[i, j] = np.sum((img[i:i+f,j:j+f]*W))"
   ]
  },
  {
   "cell_type": "code",
   "execution_count": 8,
   "metadata": {},
   "outputs": [
    {
     "data": {
      "text/plain": [
       "<matplotlib.image.AxesImage at 0x7f80745914e0>"
      ]
     },
     "execution_count": 8,
     "metadata": {},
     "output_type": "execute_result"
    },
    {
     "data": {
      "image/png": "[encoded data removed]",
      "text/plain": [
       "<Figure size 432x288 with 1 Axes>"
      ]
     },
     "metadata": {
      "needs_background": "light"
     },
     "output_type": "display_data"
    }
   ],
   "source": [
    "plt.imshow(y)"
   ]
  },
  {
   "cell_type": "markdown",
   "metadata": {},
   "source": [
    "### Testing convolution: extending to multiple channels and training examples "
   ]
  },
  {
   "cell_type": "markdown",
   "metadata": {},
   "source": [
    "Defining an input"
   ]
  },
  {
   "cell_type": "code",
   "execution_count": 9,
   "metadata": {},
   "outputs": [],
   "source": [
    "m = 12\n",
    "nh_0 = 64\n",
    "nw_0 = 64\n",
    "nc_0 = 3"
   ]
  },
  {
   "cell_type": "code",
   "execution_count": 10,
   "metadata": {},
   "outputs": [],
   "source": [
    "A_0 = np.random.rand(m, nh_0, nw_0, nc_0)\n",
    "#A_0 = np.expand_dims(A_0,axis=len(A_0.shape))"
   ]
  },
  {
   "cell_type": "markdown",
   "metadata": {},
   "source": [
    "Defining layer parameters"
   ]
  },
  {
   "cell_type": "code",
   "execution_count": 11,
   "metadata": {},
   "outputs": [],
   "source": [
    "from meik.utils.activations import relu, drelu"
   ]
  },
  {
   "cell_type": "code",
   "execution_count": 12,
   "metadata": {},
   "outputs": [],
   "source": [
    "f_1 = 5\n",
    "nc_1 = 10\n",
    "s_1 = 1\n",
    "p_1 = 0\n",
    "g_1 = relu\n",
    "dg_1 = drelu"
   ]
  },
  {
   "cell_type": "code",
   "execution_count": 13,
   "metadata": {},
   "outputs": [],
   "source": [
    "nh_1 = int((nh_0+2*p_1-f_1)/s_1)+1\n",
    "nw_1 = int((nw_0+2*p_1-f_1)/s_1)+1"
   ]
  },
  {
   "cell_type": "markdown",
   "metadata": {},
   "source": [
    "Defining layer variables"
   ]
  },
  {
   "cell_type": "code",
   "execution_count": 14,
   "metadata": {},
   "outputs": [],
   "source": [
    "W_1 = np.random.rand(f_1, f_1, nc_0, nc_1)"
   ]
  },
  {
   "cell_type": "code",
   "execution_count": 15,
   "metadata": {},
   "outputs": [],
   "source": [
    "b_1 = np.random.rand(1, 1, 1, nc_1)"
   ]
  },
  {
   "cell_type": "markdown",
   "metadata": {},
   "source": [
    "Computing forwardprop"
   ]
  },
  {
   "cell_type": "code",
   "execution_count": 16,
   "metadata": {},
   "outputs": [],
   "source": [
    "def forwardprop_v1(A_0, params):\n",
    "    \n",
    "    W, b, g, f, s, nh, nw, nc = params\n",
    "    \n",
    "    Z = np.zeros((m,nh,nw,nc))\n",
    "    \n",
    "    for i in range(nh):\n",
    "        \n",
    "        for j in range(nw):\n",
    "            \n",
    "            axes = tuple(i for i in range(1,len(Z.shape)))\n",
    "            \n",
    "            # Note on np.newaxis: extension of A dimension such that it is copied along the additional axis for multiplication\n",
    "            Z[:, i, j, :] = np.sum((A_0[:,i*s:i*s+f,j*s:j*s+f,:,np.newaxis]*W), axis=axes)\n",
    "            \n",
    "    Z += b\n",
    "    \n",
    "    A = g(Z)\n",
    "\n",
    "    return A"
   ]
  },
  {
   "cell_type": "code",
   "execution_count": 17,
   "metadata": {},
   "outputs": [],
   "source": [
    "A_1 = forwardprop_v1(A_0, [W_1, b_1, g_1, f_1, s_1, nh_1, nw_1, nc_1])"
   ]
  },
  {
   "cell_type": "code",
   "execution_count": 18,
   "metadata": {},
   "outputs": [
    {
     "data": {
      "text/plain": [
       "0.19218656534038017"
      ]
     },
     "execution_count": 18,
     "metadata": {},
     "output_type": "execute_result"
    }
   ],
   "source": [
    "timeit('forwardprop_v1(A_0, [W_1, b_1, g_1, f_1, s_1, nh_1, nw_1, nc_1])', globals=globals(), number=100)/100"
   ]
  },
  {
   "cell_type": "markdown",
   "metadata": {},
   "source": [
    "### Computing backprop v1"
   ]
  },
  {
   "cell_type": "code",
   "execution_count": 19,
   "metadata": {},
   "outputs": [],
   "source": [
    "dA_1 = np.random.random(A_1.shape)"
   ]
  },
  {
   "cell_type": "code",
   "execution_count": 20,
   "metadata": {},
   "outputs": [],
   "source": [
    "dZ_1 = dg_1(A_1)*dA_1"
   ]
  },
  {
   "cell_type": "code",
   "execution_count": 21,
   "metadata": {},
   "outputs": [],
   "source": [
    "axes = tuple(i for i in range(0,len(dA_1.shape)-1))\n",
    "db_1 = 1./m * np.sum(dZ_1, axis=axes, keepdims=True)"
   ]
  },
  {
   "cell_type": "code",
   "execution_count": 22,
   "metadata": {},
   "outputs": [],
   "source": [
    "#For 2D input, single example, single filter\n",
    "\n",
    "A = A_0[0,:,:,0]\n",
    "W = W_1[:,:,0,0]\n",
    "dZ = dZ_1[0,:,:,0]\n",
    "dW = np.zeros(W.shape)\n",
    "dA = np.zeros(A.shape)\n",
    "\n",
    "for i in range(nh_1):\n",
    "    \n",
    "    for j in range(nw_1):\n",
    "\n",
    "            dW += A[i:i+f_1,j:j+f_1]*dZ[i,j]\n",
    "            \n",
    "            dA[i:i+f_1,j:j+f_1] += dZ[i,j]*W"
   ]
  },
  {
   "cell_type": "code",
   "execution_count": 23,
   "metadata": {},
   "outputs": [],
   "source": [
    "#For 3D input, single example, single filter\n",
    "\n",
    "A = A_0[0,:,:,:]\n",
    "W = W_1[:,:,:,0]\n",
    "dZ = dZ_1[0,:,:,0]\n",
    "dW = np.zeros(W.shape)\n",
    "dA = np.zeros(A.shape)\n",
    "\n",
    "for i in range(nh_1):\n",
    "    \n",
    "    for j in range(nw_1):\n",
    "    \n",
    "            dW += A[i:i+f_1,j:j+f_1,:]*dZ[i,j]\n",
    "            \n",
    "            dA[i:i+f_1,j:j+f_1,:] += dZ[i,j]*W"
   ]
  },
  {
   "cell_type": "code",
   "execution_count": 24,
   "metadata": {},
   "outputs": [],
   "source": [
    "#For 3D input, single example, multiple filters\n",
    "\n",
    "A = A_0[0,:,:,:] \n",
    "W = W_1[:,:,:,:]\n",
    "dZ = dZ_1[0,:,:,:]\n",
    "dW = np.zeros(W.shape)\n",
    "dA = np.zeros(A.shape)\n",
    "\n",
    "for i in range(nh_1):\n",
    "    \n",
    "    for j in range(nw_1):\n",
    "    \n",
    "            dW += A[i:i+f_1,j:j+f_1,:,np.newaxis]*dZ[i,j,:]\n",
    "            \n",
    "            dA[i:i+f_1,j:j+f_1,:] += np.sum(W*dZ[i,j,:], axis=3, keepdims=False) #summing across layer 1 filters"
   ]
  },
  {
   "cell_type": "code",
   "execution_count": 25,
   "metadata": {},
   "outputs": [],
   "source": [
    "#For 3D input, multiple examples, multiple filter\n",
    "\n",
    "A = A_0[:,:,:,:] \n",
    "W = W_1[:,:,:,:]\n",
    "dZ = dZ_1[:,:,:,:]\n",
    "dW = np.zeros(W.shape)\n",
    "dA = np.zeros(A.shape)\n",
    "\n",
    "for i in range(nh_1):\n",
    "    \n",
    "    for j in range(nw_1):\n",
    "        \n",
    "            A_ = A[:,i:i+f_1,j:j+f_1,:,np.newaxis]\n",
    "            dZ_ = dZ[:,i,j,:][:,np.newaxis,np.newaxis,np.newaxis,:] \n",
    "            \n",
    "            dW += np.sum(A_*dZ_, axis=0, keepdims=False)\n",
    "            \n",
    "            W_ = W[np.newaxis]\n",
    "            \n",
    "            dA[:,i:i+f_1,j:j+f_1,:] += np.sum(W_*dZ_, axis=4, keepdims=False)\n",
    "            \n",
    "dW *= 1./m"
   ]
  },
  {
   "cell_type": "code",
   "execution_count": 26,
   "metadata": {},
   "outputs": [],
   "source": [
    "def backprop(dA0, params):\n",
    "    \n",
    "    A, A0, W, dg = params\n",
    "    \n",
    "    m, nh_0, nw_0, nc_0 = A0.shape\n",
    "    f, _, _, nc = W.shape\n",
    "    \n",
    "    dZ = dg(A)*dA0\n",
    "    \n",
    "    axes = tuple(i for i in range(0,len(dZ.shape)-1))\n",
    "    db = 1./m * np.sum(dZ, axis=axes, keepdims=True)\n",
    "    \n",
    "    dW = np.zeros(W.shape)\n",
    "    dA = np.zeros(A0.shape)\n",
    "    \n",
    "    for i in range(nh):\n",
    "\n",
    "        for j in range(nw):\n",
    "\n",
    "                A0_ = A0[:,i:i+f,j:j+f,:,np.newaxis]\n",
    "                dZ_ = dZ[:,i,j,:][:,np.newaxis,np.newaxis,np.newaxis,:] \n",
    "\n",
    "                dW += np.sum(A0_*dZ_, axis=0, keepdims=False)\n",
    "\n",
    "                W_ = W[np.newaxis]\n",
    "\n",
    "                dA[:,i:i+f,j:j+f,:] += np.sum(W_*dZ_, axis=4, keepdims=False)\n",
    "\n",
    "    dW *= 1./m\n",
    "    \n",
    "    return dA, dW"
   ]
  },
  {
   "cell_type": "code",
   "execution_count": null,
   "metadata": {},
   "outputs": [],
   "source": []
  },
  {
   "cell_type": "markdown",
   "metadata": {},
   "source": [
    "### Convolution as matrix multiplication"
   ]
  },
  {
   "cell_type": "markdown",
   "metadata": {},
   "source": [
    "An easier to understand implementation using matrix multiplication: http://cs231n.github.io/convolutional-networks/"
   ]
  },
  {
   "cell_type": "code",
   "execution_count": 27,
   "metadata": {},
   "outputs": [],
   "source": [
    "def im2col(A, f, s):\n",
    "    \n",
    "    m, nh_0, nw_0, nc_0 = A.shape\n",
    "    \n",
    "    nh = int((nh_0-f)/s)+1\n",
    "    nw = int((nw_0-f)/s)+1\n",
    "    \n",
    "    out = np.zeros((m, f*f*nc_0, nh*nw))\n",
    "    \n",
    "    for i in range(nh):\n",
    "\n",
    "        for j in range(nw):\n",
    "\n",
    "               out[:, :, i*nw+j] = A[:,i*s:i*s+f,j*s:j*s+f,:].reshape(m, f*f*nc_0)\n",
    "                \n",
    "    return out"
   ]
  },
  {
   "cell_type": "code",
   "execution_count": 28,
   "metadata": {},
   "outputs": [],
   "source": [
    "def forwardprop(A0, params):\n",
    "    \n",
    "    W, b, g, f, s, nh, nw, nc = params\n",
    "    \n",
    "    A0_col = im2col(A0, f, s)\n",
    "    \n",
    "    m, _, _, nc_0 = A0.shape\n",
    "    \n",
    "    W = W.reshape(f*f*nc_0,nc).T\n",
    "    \n",
    "    Z = np.zeros((m, nh, nw, nc))\n",
    "    \n",
    "    for i in range(m):\n",
    "        \n",
    "        Z[i] = np.dot(W,A0_col[i]).T.reshape(1, nh, nw, nc)\n",
    "        \n",
    "    Z += b\n",
    "    \n",
    "    A = g(Z)\n",
    "    \n",
    "    return A\n",
    "    "
   ]
  },
  {
   "cell_type": "code",
   "execution_count": 29,
   "metadata": {},
   "outputs": [],
   "source": [
    "A0_col = im2col(A_0, f_1, s_1)"
   ]
  },
  {
   "cell_type": "code",
   "execution_count": 30,
   "metadata": {},
   "outputs": [],
   "source": [
    "A = forwardprop(A_0, [W_1, b_1, g_1, f_1, s_1, nh_1, nw_1, nc_1])"
   ]
  },
  {
   "cell_type": "markdown",
   "metadata": {},
   "source": [
    "Checking if it produces the same result as previous implementation:"
   ]
  },
  {
   "cell_type": "code",
   "execution_count": 31,
   "metadata": {},
   "outputs": [
    {
     "data": {
      "text/plain": [
       "True"
      ]
     },
     "execution_count": 31,
     "metadata": {},
     "output_type": "execute_result"
    }
   ],
   "source": [
    "np.all(A_1 == A)"
   ]
  },
  {
   "cell_type": "markdown",
   "metadata": {},
   "source": [
    "Testing the speed:"
   ]
  },
  {
   "cell_type": "code",
   "execution_count": 32,
   "metadata": {},
   "outputs": [
    {
     "data": {
      "text/plain": [
       "0.04996047879976686"
      ]
     },
     "execution_count": 32,
     "metadata": {},
     "output_type": "execute_result"
    }
   ],
   "source": [
    "timeit('forwardprop(A_0, [W_1, b_1, g_1, f_1, s_1, nh_1, nw_1, nc_1])', globals=globals(), number=100)/100"
   ]
  },
  {
   "cell_type": "markdown",
   "metadata": {},
   "source": [
    "Goes to show that it is also a lot more efficient implementation. "
   ]
  },
  {
   "cell_type": "markdown",
   "metadata": {},
   "source": [
    "A point to note is that im2col seems to take the majority of the computation. Can this be done more efficiently?"
   ]
  },
  {
   "cell_type": "code",
   "execution_count": 33,
   "metadata": {},
   "outputs": [
    {
     "data": {
      "text/plain": [
       "0.043593181460164485"
      ]
     },
     "execution_count": 33,
     "metadata": {},
     "output_type": "execute_result"
    }
   ],
   "source": [
    "timeit('im2col(A_0, f_1, s_1)', globals=globals(), number=100)/100"
   ]
  },
  {
   "cell_type": "markdown",
   "metadata": {},
   "source": [
    "### An attempt to improve im2col speed: 2D case"
   ]
  },
  {
   "cell_type": "markdown",
   "metadata": {},
   "source": [
    "Idea from: https://stackoverflow.com/questions/30109068/implement-matlabs-im2col-sliding-in-python/30110497"
   ]
  },
  {
   "cell_type": "markdown",
   "metadata": {},
   "source": [
    "Generating a 2D test case"
   ]
  },
  {
   "cell_type": "code",
   "execution_count": 34,
   "metadata": {},
   "outputs": [],
   "source": [
    "V = np.arange(15)[:,None]*5+np.arange(5)\n",
    "f = 3\n",
    "s = 1"
   ]
  },
  {
   "cell_type": "code",
   "execution_count": 35,
   "metadata": {},
   "outputs": [],
   "source": [
    "def im2col_2d(A, f, s):\n",
    "    \n",
    "    nh_0, nw_0 = A.shape\n",
    "    \n",
    "    nh = int((nh_0-f)/s)+1\n",
    "    nw = int((nw_0-f)/s)+1\n",
    "    \n",
    "    out = []\n",
    "    \n",
    "    for i in range(nh):\n",
    "\n",
    "        for j in range(nw):\n",
    "\n",
    "               out.append(A[i*s:i*s+f,j*s:j*s+f].flatten())\n",
    "                \n",
    "    return np.array(out).flatten()"
   ]
  },
  {
   "cell_type": "code",
   "execution_count": 36,
   "metadata": {},
   "outputs": [],
   "source": [
    "def im2col_2d_idxs_bc(nh_0, nw_0, f, s):\n",
    "      \n",
    "    nh = int((nh_0-f)/s)+1\n",
    "    nw = int((nw_0-f)/s)+1\n",
    "    \n",
    "    # generating indexes of filter window on flattened 2D image\n",
    "    # for location (0,0) in the output image\n",
    "    filter_idxs = np.arange(f)[:,np.newaxis]*nw_0 + np.arange(f)\n",
    "\n",
    "    # generating the index in the flattened 2D image where the filter starts\n",
    "    # for each location in the output image\n",
    "    offset_idxs = (np.arange(nh)*s*nw_0)[:,np.newaxis] + np.arange(nw)*s\n",
    "    \n",
    "    # generating the full set of indices by generating a set of filter indices\n",
    "    # for each start location \n",
    "    idxs = (offset_idxs.flatten()[:,np.newaxis]+filter_idxs.flatten()).flatten()\n",
    "    \n",
    "    return idxs"
   ]
  },
  {
   "cell_type": "code",
   "execution_count": 37,
   "metadata": {},
   "outputs": [],
   "source": [
    "def im2col_2d_bc(A, f, s):\n",
    "    \n",
    "    nh_0, nw_0 = A.shape\n",
    "    \n",
    "    idxs = im2col_2d_idxs_bc(nh_0, nw_0, f, s)\n",
    "    \n",
    "    return A.flatten()[idxs]"
   ]
  },
  {
   "cell_type": "markdown",
   "metadata": {},
   "source": [
    "Checking the two implementations produce the same result"
   ]
  },
  {
   "cell_type": "code",
   "execution_count": 38,
   "metadata": {},
   "outputs": [
    {
     "data": {
      "text/plain": [
       "True"
      ]
     },
     "execution_count": 38,
     "metadata": {},
     "output_type": "execute_result"
    }
   ],
   "source": [
    "np.all(im2col_2d_bc(V,f,s) == im2col_2d(V,f,s))"
   ]
  },
  {
   "cell_type": "markdown",
   "metadata": {},
   "source": [
    "Timing the functions"
   ]
  },
  {
   "cell_type": "code",
   "execution_count": 39,
   "metadata": {},
   "outputs": [
    {
     "data": {
      "text/plain": [
       "8.100752740283497e-05"
      ]
     },
     "execution_count": 39,
     "metadata": {},
     "output_type": "execute_result"
    }
   ],
   "source": [
    "timeit('im2col_2d(V, f, s)', globals=globals(), number=10000)/10000"
   ]
  },
  {
   "cell_type": "code",
   "execution_count": 40,
   "metadata": {},
   "outputs": [
    {
     "data": {
      "text/plain": [
       "2.5015962700126692e-05"
      ]
     },
     "execution_count": 40,
     "metadata": {},
     "output_type": "execute_result"
    }
   ],
   "source": [
    "timeit('im2col_2d_idxs_bc(V.shape[0], V.shape[1], f, s)', globals=globals(), number=10000)/10000"
   ]
  },
  {
   "cell_type": "code",
   "execution_count": 41,
   "metadata": {},
   "outputs": [
    {
     "data": {
      "text/plain": [
       "2.537676209467463e-05"
      ]
     },
     "execution_count": 41,
     "metadata": {},
     "output_type": "execute_result"
    }
   ],
   "source": [
    "timeit('im2col_2d_bc(V, f, s)', globals=globals(), number=10000)/10000"
   ]
  },
  {
   "cell_type": "markdown",
   "metadata": {},
   "source": [
    "Strategy of using broadcasting is 3x faster according to this simple test. It seems reasonable to extend to 3D. But its important to note that the generation of the indexes takes a significant portion of the time and this only needs to be done once per layer at initialization!"
   ]
  },
  {
   "cell_type": "markdown",
   "metadata": {},
   "source": [
    "### An attempt to improve im2col speed: extending to 3D"
   ]
  },
  {
   "cell_type": "markdown",
   "metadata": {},
   "source": [
    "Generating test case"
   ]
  },
  {
   "cell_type": "code",
   "execution_count": 42,
   "metadata": {},
   "outputs": [],
   "source": [
    "m = 2\n",
    "nh_0 = 4\n",
    "nw_0 = 6\n",
    "nc_0 = 3"
   ]
  },
  {
   "cell_type": "code",
   "execution_count": 43,
   "metadata": {},
   "outputs": [],
   "source": [
    "A0 = np.arange(m*nh_0*nw_0*nc_0).reshape(m, nh_0, nw_0, nc_0)"
   ]
  },
  {
   "cell_type": "code",
   "execution_count": 44,
   "metadata": {},
   "outputs": [
    {
     "data": {
      "text/plain": [
       "array([[ 0,  3,  6,  9, 12, 15],\n",
       "       [18, 21, 24, 27, 30, 33],\n",
       "       [36, 39, 42, 45, 48, 51],\n",
       "       [54, 57, 60, 63, 66, 69]])"
      ]
     },
     "execution_count": 44,
     "metadata": {},
     "output_type": "execute_result"
    }
   ],
   "source": [
    "# each channel contains a 2D feature image\n",
    "A0[0,:,:,0]"
   ]
  },
  {
   "cell_type": "code",
   "execution_count": 45,
   "metadata": {},
   "outputs": [],
   "source": [
    "f = 2\n",
    "nc = 5\n",
    "s = 1"
   ]
  },
  {
   "cell_type": "code",
   "execution_count": 46,
   "metadata": {},
   "outputs": [],
   "source": [
    "nh = int((nh_0-f)/s)+1\n",
    "nw = int((nw_0-f)/s)+1"
   ]
  },
  {
   "cell_type": "code",
   "execution_count": 47,
   "metadata": {},
   "outputs": [],
   "source": [
    "def im2col_bc(A,f,s,idxs=None):\n",
    "    \n",
    "    m, nh_0, nw_0, nc_0 = A.shape\n",
    "    \n",
    "    nh = int((nh_0-f)/s)+1\n",
    "    nw = int((nw_0-f)/s)+1\n",
    "    \n",
    "    if type(idxs)==type(None):\n",
    "        idxs = im2col_2d_idxs_bc(nh_0, nw_0, f, s)\n",
    "    \n",
    "    # Note: arranging colums where channels are appended to each other pixel by pixel\n",
    "    return np.swapaxes(A0.reshape(m,nh_0*nw_0,nc_0)[:,idxs,:].reshape(m,nh*nw,f*f*nc_0),1,2)"
   ]
  },
  {
   "cell_type": "code",
   "execution_count": 48,
   "metadata": {},
   "outputs": [],
   "source": [
    "# arranging colums where each 2D image is flattened then appended channel by channel\n",
    "# np.swapaxes(A0.reshape(m,nh_0*nw_0,nc_0)[0,idxs,:].reshape(nw*nh,f*f,nc_0),1,2).reshape(nw*nh,f*f*nc_0).T"
   ]
  },
  {
   "cell_type": "markdown",
   "metadata": {},
   "source": [
    "Testing that the two methods produce the same result"
   ]
  },
  {
   "cell_type": "code",
   "execution_count": 49,
   "metadata": {},
   "outputs": [],
   "source": [
    "A0_col = im2col(A0,f,s)"
   ]
  },
  {
   "cell_type": "code",
   "execution_count": 50,
   "metadata": {},
   "outputs": [],
   "source": [
    "A0_col_bc = im2col_bc(A0,f,s)"
   ]
  },
  {
   "cell_type": "code",
   "execution_count": 51,
   "metadata": {},
   "outputs": [
    {
     "data": {
      "text/plain": [
       "True"
      ]
     },
     "execution_count": 51,
     "metadata": {},
     "output_type": "execute_result"
    }
   ],
   "source": [
    "np.all(A0_col == A0_col_bc)"
   ]
  },
  {
   "cell_type": "markdown",
   "metadata": {},
   "source": [
    "Note: indexes can also be done explicitly in 3D"
   ]
  },
  {
   "cell_type": "code",
   "execution_count": 52,
   "metadata": {},
   "outputs": [],
   "source": [
    "def im2col_3d_idxs_bc(nh_0, nw_0, nc_0, f, s):\n",
    "    \n",
    "    nh = int((nh_0-f)/s)+1\n",
    "    nw = int((nw_0-f)/s)+1\n",
    "    \n",
    "    filter_idxs = ((np.arange(f)[:,None]*nw_0*nc_0 + np.arange(f)*nc_0)[:,:,None] + np.arange(nc_0)).flatten()\n",
    "    \n",
    "    offset_idxs = ((np.arange(nh)*s*nw_0*nc_0)[:,None] + np.arange(nw)*s*nc_0).flatten()\n",
    "    \n",
    "    idxs = offset_idxs[:,None] + filter_idxs\n",
    "    \n",
    "    return idxs"
   ]
  },
  {
   "cell_type": "code",
   "execution_count": 53,
   "metadata": {},
   "outputs": [],
   "source": [
    "A0_col_3d_bc = np.swapaxes(A0.reshape(m,nh_0*nw_0*nc_0)[:,im2col_3d_idxs_bc(nh_0, nw_0, nc_0, f, s)].reshape(m,nh*nw,f*f*nc_0),1,2)"
   ]
  },
  {
   "cell_type": "code",
   "execution_count": 54,
   "metadata": {},
   "outputs": [
    {
     "data": {
      "text/plain": [
       "True"
      ]
     },
     "execution_count": 54,
     "metadata": {},
     "output_type": "execute_result"
    }
   ],
   "source": [
    "np.all(A0_col_3d_bc == A0_col_bc)"
   ]
  },
  {
   "cell_type": "markdown",
   "metadata": {},
   "source": [
    "Testing speed of new implementation"
   ]
  },
  {
   "cell_type": "code",
   "execution_count": 55,
   "metadata": {},
   "outputs": [
    {
     "data": {
      "text/plain": [
       "3.990549599984661e-05"
      ]
     },
     "execution_count": 55,
     "metadata": {},
     "output_type": "execute_result"
    }
   ],
   "source": [
    "timeit('im2col(A0, f, s)', globals=globals(), number=10000)/10000"
   ]
  },
  {
   "cell_type": "code",
   "execution_count": 56,
   "metadata": {},
   "outputs": [
    {
     "data": {
      "text/plain": [
       "3.309431130182929e-05"
      ]
     },
     "execution_count": 56,
     "metadata": {},
     "output_type": "execute_result"
    }
   ],
   "source": [
    "timeit('im2col_bc(A0, f, s)', globals=globals(), number=10000)/10000"
   ]
  },
  {
   "cell_type": "markdown",
   "metadata": {},
   "source": [
    "The speed improvement is not significant when indexes have to be generated. However, what about in the case that they have already been calculated?"
   ]
  },
  {
   "cell_type": "code",
   "execution_count": 57,
   "metadata": {},
   "outputs": [],
   "source": [
    "idxs = im2col_2d_idxs_bc(nh_0, nw_0, f, s)"
   ]
  },
  {
   "cell_type": "code",
   "execution_count": 58,
   "metadata": {},
   "outputs": [
    {
     "data": {
      "text/plain": [
       "9.81916354969144e-06"
      ]
     },
     "execution_count": 58,
     "metadata": {},
     "output_type": "execute_result"
    }
   ],
   "source": [
    "timeit('im2col_bc(A0, f, s, idxs=idxs)', globals=globals(), number=100000)/100000"
   ]
  },
  {
   "cell_type": "markdown",
   "metadata": {},
   "source": [
    "We experience a 4x speedup with the new method compared to the old!"
   ]
  },
  {
   "cell_type": "markdown",
   "metadata": {},
   "source": [
    "### Convolution backprop as matrix multiplication"
   ]
  },
  {
   "cell_type": "markdown",
   "metadata": {},
   "source": [
    "Setting up dummy task"
   ]
  },
  {
   "cell_type": "code",
   "execution_count": 59,
   "metadata": {},
   "outputs": [],
   "source": [
    "from meik.utils.activations import relu, drelu"
   ]
  },
  {
   "cell_type": "code",
   "execution_count": 60,
   "metadata": {},
   "outputs": [],
   "source": [
    "m = 2\n",
    "nh_0 = 4\n",
    "nw_0 = 6\n",
    "nc_0 = 3"
   ]
  },
  {
   "cell_type": "code",
   "execution_count": 61,
   "metadata": {},
   "outputs": [],
   "source": [
    "A0 = np.arange(m*nh_0*nw_0*nc_0).reshape(m, nh_0, nw_0, nc_0)"
   ]
  },
  {
   "cell_type": "code",
   "execution_count": 62,
   "metadata": {},
   "outputs": [],
   "source": [
    "f = 2\n",
    "nc = 5\n",
    "s = 1"
   ]
  },
  {
   "cell_type": "code",
   "execution_count": 63,
   "metadata": {},
   "outputs": [],
   "source": [
    "nh = int((nh_0-f)/s)+1\n",
    "nw = int((nw_0-f)/s)+1"
   ]
  },
  {
   "cell_type": "code",
   "execution_count": 64,
   "metadata": {},
   "outputs": [],
   "source": [
    "W = np.random.rand(f, f, nc_0, nc)\n",
    "b = np.random.rand(1, 1, 1, nc)"
   ]
  },
  {
   "cell_type": "code",
   "execution_count": 65,
   "metadata": {},
   "outputs": [],
   "source": [
    "g = relu\n",
    "dg = drelu"
   ]
  },
  {
   "cell_type": "code",
   "execution_count": 66,
   "metadata": {},
   "outputs": [],
   "source": [
    "A = forwardprop(A0, [W, b, g, f, s, nh, nw, nc])"
   ]
  },
  {
   "cell_type": "code",
   "execution_count": 67,
   "metadata": {},
   "outputs": [],
   "source": [
    "dA0 = np.arange(m*nh*nw*nc).reshape(m, nh, nw, nc)"
   ]
  },
  {
   "cell_type": "code",
   "execution_count": 68,
   "metadata": {},
   "outputs": [],
   "source": [
    "idxs = im2col_3d_idxs_bc(nh_0, nw_0, nc_0, f, s)"
   ]
  },
  {
   "cell_type": "code",
   "execution_count": 69,
   "metadata": {},
   "outputs": [],
   "source": [
    "def backprop_col(dA0, params):\n",
    "    \n",
    "    A, A0, A0_col, W, dg, idxs = params\n",
    "    \n",
    "    m, nh_0, nw_0, nc_0 = A0.shape\n",
    "    f, f, _, nc = W.shape\n",
    "    \n",
    "    nh = int((nh_0-f)/s)+1\n",
    "    nw = int((nw_0-f)/s)+1\n",
    "    \n",
    "    dZ = dA0*dg(A)\n",
    "            \n",
    "    W_ = W.reshape(f*f*nc_0, nc)\n",
    "    dZ_ = np.swapaxes(dZ.reshape(m, nh*nw, nc),1,2)\n",
    "    \n",
    "    dW_ = np.zeros(W_.shape)\n",
    "    dA_col = np.zeros(A0_col.shape)\n",
    "    \n",
    "    axes = tuple(np.arange(len(dZ.shape)-1))\n",
    "    db = 1./m * np.sum(dZ, axis=axes, keepdims=True)\n",
    "    \n",
    "    for i in range(m):\n",
    "        \n",
    "        dA_col[i] = np.dot(W_, dZ_[i])\n",
    "        dW_ += np.dot(A0_col[i], dZ_[i].T)\n",
    "    \n",
    "    dW_ *= 1./m\n",
    "\n",
    "    dA = np.zeros(A0.shape).flatten()\n",
    "    \n",
    "    # col2im_v1: doesn't seem efficient since we have to loop -> issue of no accumulation with fancy indexing\n",
    "    #    for i in range(nw*nh):\n",
    "    #        dA[:, idxs[i,:]] += dA_col[:,:,i]\n",
    " \n",
    "    # col2im_v2: using np.ufunc.at\n",
    "    # generating indices for flattening across training examples\n",
    "    idxs_m = ((np.arange((m),dtype=np.int8)*nh_0*nw_0*nc_0)[:,None] + idxs.flatten()).flatten()\n",
    "    \n",
    "    # flattening where features (f x f x nc_0), then training examples, are concatenated\n",
    "    dA_col = np.swapaxes(dA_col,1,2).flatten()\n",
    "    \n",
    "    # adds dA_col to the correct location in the input volume \n",
    "    # by accumulating the result for elements that are indexed multiple times\n",
    "    np.add.at(dA, idxs_m, dA_col)\n",
    "    \n",
    "    dA = dA.reshape(A0.shape)\n",
    "    \n",
    "    return dA, dW"
   ]
  },
  {
   "cell_type": "code",
   "execution_count": 70,
   "metadata": {},
   "outputs": [],
   "source": [
    "dA, dW = backprop_col(dA0, [A, A0, A0_col, W, dg, idxs])"
   ]
  },
  {
   "cell_type": "code",
   "execution_count": 71,
   "metadata": {},
   "outputs": [],
   "source": [
    "dA1, dW1 = backprop(dA0, [A, A0, W, dg])"
   ]
  },
  {
   "cell_type": "markdown",
   "metadata": {},
   "source": [
    "Checking the two backprop methods produce the same result"
   ]
  },
  {
   "cell_type": "code",
   "execution_count": 72,
   "metadata": {},
   "outputs": [
    {
     "data": {
      "text/plain": [
       "True"
      ]
     },
     "execution_count": 72,
     "metadata": {},
     "output_type": "execute_result"
    }
   ],
   "source": [
    "np.all((dA - dA1) < 1e-12)"
   ]
  },
  {
   "cell_type": "markdown",
   "metadata": {},
   "source": [
    "Timing the two versions"
   ]
  },
  {
   "cell_type": "code",
   "execution_count": 75,
   "metadata": {},
   "outputs": [
    {
     "data": {
      "text/plain": [
       "9.624658320099115e-05"
      ]
     },
     "execution_count": 75,
     "metadata": {},
     "output_type": "execute_result"
    }
   ],
   "source": [
    "timeit('backprop_col(dA0, [A, A0, A0_col, W, dg, idxs])', globals=globals(), number=10000)/10000"
   ]
  },
  {
   "cell_type": "code",
   "execution_count": 76,
   "metadata": {},
   "outputs": [
    {
     "data": {
      "text/plain": [
       "0.0005053380984987597"
      ]
     },
     "execution_count": 76,
     "metadata": {},
     "output_type": "execute_result"
    }
   ],
   "source": [
    "timeit('backprop(dA0, [A, A0, W, dg])', globals=globals(), number=10000)/10000"
   ]
  },
  {
   "cell_type": "markdown",
   "metadata": {},
   "source": [
    "### Convolution layer class"
   ]
  },
  {
   "cell_type": "code",
   "execution_count": null,
   "metadata": {},
   "outputs": [],
   "source": [
    "from meik.layers import Layer\n",
    "from meik.initializer import Initializer\n",
    "from meik.utils import activations\n",
    "\n",
    "class Convolution3D(Layer):\n",
    "    \n",
    "    def __init__(self, filters, kernel_size, strides = 1, padding = 'valid', inputs = None, units = None, activation = None, initialization = None, init_params = None):\n",
    "        \n",
    "        Layer.__init__(self)\n",
    "        \n",
    "        self.id = None\n",
    "\n",
    "        self.inputs = inputs\n",
    "        self.units = units\n",
    "        self.activation = activation\n",
    "        self.optimizer = None #this gets assigned by model in model.build()\n",
    "        \n",
    "        self.f = kernel_size\n",
    "        self.nc = filters\n",
    "        self.s = strides\n",
    "\n",
    "        if padding == 'valid':\n",
    "            self.p = 0\n",
    "        elif padding == 'same':\n",
    "            self.p = kernel_size/2\n",
    "\n",
    "        # setting activation methods\n",
    "        self.g = getattr(activations, activation)\n",
    "        self.dg = getattr(activations, 'd'+activation)\n",
    "\n",
    "        # setting initializer\n",
    "        self.initializer = Initializer(activation = activation, initialization = initialization, init_params = init_params)\n",
    "\n",
    "        # declaring important variables            \n",
    "        self.W = None\n",
    "        self.b = None\n",
    "        self.A = None\n",
    "        self.A0 = None\n",
    "\n",
    "        self.dW = None\n",
    "        self.db = None\n",
    "\n",
    "        # setting prediction of layer as forwardprop\n",
    "        self.predict = self.forwardprop\n",
    "        self.grad_check_predict = self.forwardprop\n",
    "\n",
    "    def init(self, _id, inputs):\n",
    "        \n",
    "        self.id = _id\n",
    "        self.inputs = inputs\n",
    "\n",
    "        f = self.f\n",
    "        s = self.s\n",
    "        p = self.p\n",
    "        nc = self.nc\n",
    "        \n",
    "        nh_0, nw_0, nc_0 = inputs\n",
    "\n",
    "        self.nh = int((nh_0+2*p-f)/s)+1\n",
    "        self.nw = int((nw_0+2*p-f)/s)+1\n",
    "    \n",
    "        self.units = (self.nh, self.nw, self.nc)\n",
    "        \n",
    "        self.W = self.initializer.initialize((f,f,nc_0,nc))\n",
    "        self.b = np.zeros((1, 1, 1, nc))\n",
    "\n",
    "# http://cs231n.github.io/convolutional-networks/\n",
    "# implement matrix multiplication version\n",
    "\n",
    "    def forwardprop(self, A0):\n",
    "\n",
    "        g = self.g\n",
    "        W = self.W\n",
    "        b = self.b\n",
    "\n",
    "        nh = self.nh\n",
    "        nw = self.nw\n",
    "        nc = self.nc\n",
    "\n",
    "        m = A0.shape[0]\n",
    "\n",
    "        Z = np.zeros((m,nh,nw,nc))\n",
    "        \n",
    "        axes = tuple(i for i in range(1,len(Z.shape)))\n",
    "\n",
    "        for i in range(nh_1):\n",
    "            for j in range(nw_1):\n",
    "                # Note on np.newaxis: extension of A dimension such that it is copied along the additional axis for multiplication\n",
    "                Z[:, i, j, :] = np.sum((A0[:,i:i+f_1,j:j+f_1,:,np.newaxis]*W), axis=axes) + b\n",
    "        A = g(Z)\n",
    "\n",
    "        self.A = A\n",
    "        self.A0 = A0\n",
    "\n",
    "        return A\n",
    "\n",
    "    def backprop(self, dA0):\n",
    "\n",
    "        dg = self.dg\n",
    "        W = self.W\n",
    "        A0 = self.A0\n",
    "        A = self.A\n",
    "        \n",
    "        nh = self.nh\n",
    "        nw = self.nw\n",
    "\n",
    "        m = A.shape[0]\n",
    "\n",
    "        dW = np.zeros(W.shape)\n",
    "        dA = np.zeros(A0.shape)\n",
    "\n",
    "        dZ = dA0*self.dg(A)\n",
    "\n",
    "        axes = tuple(i for i in range(1,len(dZ.shape)))\n",
    "        db = np.sum(dZ, axis=axes, keepdims=True)\n",
    "\n",
    "        for i in range(nh):\n",
    "            \n",
    "            for j in range(nw):\n",
    "                \n",
    "                    A0_ = A0[:,i:i+f_1,j:j+f_1,:,np.newaxis]\n",
    "                    dZ_ = dZ[:,i,j,:][:,np.newaxis,np.newaxis,np.newaxis,:] \n",
    "                    dW += 1./m * np.sum(A0_*dZ_, axis=0, keepdims=False)\n",
    "                    \n",
    "                    W_ = W[np.newaxis]\n",
    "                    \n",
    "                    dA[:,i:i+f_1,j:j+f_1,:] += np.sum(W_*dZ_, axis=4, keepdims=False)\n",
    "\n",
    "        self.dW = dW\n",
    "        self.db = db\n",
    "\n",
    "        return dA\n",
    "    \n",
    "    def update(self):\n",
    "\n",
    "        W = self.W\n",
    "        b = self.b\n",
    "        dW = self.dW\n",
    "        db = self.db\n",
    "\n",
    "        W, b = self.optimizer.update(W, b, dW, db)\n",
    "\n",
    "        self.W = W\n",
    "        self.b = b"
   ]
  },
  {
   "cell_type": "markdown",
   "metadata": {},
   "source": [
    "### Testing forwardprop"
   ]
  },
  {
   "cell_type": "code",
   "execution_count": null,
   "metadata": {},
   "outputs": [],
   "source": [
    "m = 12\n",
    "nh_0 = 64\n",
    "nw_0 = 64\n",
    "nc_0 = 3"
   ]
  },
  {
   "cell_type": "code",
   "execution_count": null,
   "metadata": {},
   "outputs": [],
   "source": [
    "A_0 = np.random.rand(m, nh_0, nw_0, nc_0)"
   ]
  },
  {
   "cell_type": "code",
   "execution_count": null,
   "metadata": {},
   "outputs": [],
   "source": [
    "f_1 = 5\n",
    "nc_1 = 10\n",
    "s_1 = 1\n",
    "p_1 = 0"
   ]
  },
  {
   "cell_type": "code",
   "execution_count": null,
   "metadata": {},
   "outputs": [],
   "source": [
    "L1 = Convolution3D(nc_1, f_1, activation = 'relu', inputs = (nh_0, nw_0, nc_0))"
   ]
  },
  {
   "cell_type": "code",
   "execution_count": null,
   "metadata": {},
   "outputs": [],
   "source": [
    "L1.init(0, (nh_0, nw_0, nc_0))"
   ]
  },
  {
   "cell_type": "code",
   "execution_count": null,
   "metadata": {},
   "outputs": [],
   "source": [
    "A1 = L1.forwardprop(A_0)"
   ]
  },
  {
   "cell_type": "markdown",
   "metadata": {},
   "source": [
    "### Testing backprop"
   ]
  },
  {
   "cell_type": "code",
   "execution_count": null,
   "metadata": {},
   "outputs": [],
   "source": [
    "dA = L1.backprop(dA_1)"
   ]
  },
  {
   "cell_type": "markdown",
   "metadata": {},
   "source": [
    "### Gradient checking"
   ]
  },
  {
   "cell_type": "code",
   "execution_count": null,
   "metadata": {},
   "outputs": [],
   "source": [
    "from meik.models import Sequential\n",
    "from meik.utils import gradient_check"
   ]
  },
  {
   "cell_type": "code",
   "execution_count": null,
   "metadata": {},
   "outputs": [],
   "source": [
    "model = Sequential()"
   ]
  },
  {
   "cell_type": "code",
   "execution_count": null,
   "metadata": {},
   "outputs": [],
   "source": [
    "model.add(Convolution3D(nc_1, f_1, strides = s_1, padding = 'valid', activation = 'relu', inputs = (nh_0, nw_0, nc_0)))"
   ]
  },
  {
   "cell_type": "code",
   "execution_count": null,
   "metadata": {},
   "outputs": [],
   "source": [
    "X = A_0"
   ]
  },
  {
   "cell_type": "code",
   "execution_count": null,
   "metadata": {},
   "outputs": [],
   "source": [
    "A = model.forwardprop(X)"
   ]
  },
  {
   "cell_type": "code",
   "execution_count": null,
   "metadata": {},
   "outputs": [],
   "source": [
    "theta, dtheta = gradient_check.get_params(model)"
   ]
  },
  {
   "cell_type": "code",
   "execution_count": null,
   "metadata": {},
   "outputs": [],
   "source": [
    "dtheta = np.zeros(theta.shape)\n",
    "\n",
    "dAdtheta_list = []\n",
    "epsilon = 1e-7\n",
    "\n",
    "for i in range(10):\n",
    "\n",
    "    tplus = theta.copy()   \n",
    "    tplus[i] += epsilon\n",
    "    \n",
    "    model = gradient_check.set_params(model,tplus)\n",
    "    dAplus = model.layers[0].forwardprop(X)\n",
    "    \n",
    "    tminus = theta.copy()\n",
    "    tminus[i] -= epsilon\n",
    "    \n",
    "    model = gradient_check.set_params(model,tminus)\n",
    "    dAminus = model.layers[0].forwardprop(X)\n",
    "    \n",
    "    dAdtheta = (dAplus - dAminus)/(2*epsilon)\n",
    "    dAdtheta_list.append(dAdtheta)"
   ]
  },
  {
   "cell_type": "code",
   "execution_count": null,
   "metadata": {},
   "outputs": [],
   "source": [
    "dAdtheta_list[0].shape"
   ]
  },
  {
   "cell_type": "code",
   "execution_count": null,
   "metadata": {},
   "outputs": [],
   "source": [
    "dLdA = np.ones(dAdtheta.shape)"
   ]
  },
  {
   "cell_type": "code",
   "execution_count": null,
   "metadata": {},
   "outputs": [],
   "source": [
    "dA = L1.backprop(dLdA)"
   ]
  },
  {
   "cell_type": "code",
   "execution_count": null,
   "metadata": {},
   "outputs": [],
   "source": [
    "L1.dW"
   ]
  },
  {
   "cell_type": "code",
   "execution_count": null,
   "metadata": {},
   "outputs": [],
   "source": []
  },
  {
   "cell_type": "markdown",
   "metadata": {},
   "source": [
    "### MNIST with fully connected"
   ]
  },
  {
   "cell_type": "markdown",
   "metadata": {},
   "source": [
    "Obtaining dataset"
   ]
  },
  {
   "cell_type": "code",
   "execution_count": null,
   "metadata": {},
   "outputs": [],
   "source": [
    "from keras.datasets import mnist"
   ]
  },
  {
   "cell_type": "code",
   "execution_count": null,
   "metadata": {},
   "outputs": [],
   "source": [
    "(x_train, y_train), (x_test, y_test) = mnist.load_data()"
   ]
  },
  {
   "cell_type": "markdown",
   "metadata": {},
   "source": [
    "One-hot encoding labels"
   ]
  },
  {
   "cell_type": "code",
   "execution_count": null,
   "metadata": {},
   "outputs": [],
   "source": [
    "def one_hot_encode(y):\n",
    "    \n",
    "    shape = tuple(list(y.shape)+[np.max(y)+1])\n",
    "    l = np.zeros(shape)\n",
    "    \n",
    "    l[np.arange(l.shape[0]),y] = 1\n",
    "    \n",
    "    return l"
   ]
  },
  {
   "cell_type": "code",
   "execution_count": null,
   "metadata": {},
   "outputs": [],
   "source": [
    "Y_train = one_hot_encode(y_train).T"
   ]
  },
  {
   "cell_type": "code",
   "execution_count": null,
   "metadata": {},
   "outputs": [],
   "source": [
    "Y_test = one_hot_encode(y_test).T"
   ]
  },
  {
   "cell_type": "markdown",
   "metadata": {},
   "source": [
    "Flattening inputs"
   ]
  },
  {
   "cell_type": "code",
   "execution_count": null,
   "metadata": {},
   "outputs": [],
   "source": [
    "m, h, w = x_train.shape"
   ]
  },
  {
   "cell_type": "code",
   "execution_count": null,
   "metadata": {},
   "outputs": [],
   "source": [
    "X_train = x_train.reshape(m, h*w).T"
   ]
  },
  {
   "cell_type": "code",
   "execution_count": null,
   "metadata": {},
   "outputs": [],
   "source": [
    "n, h, w = x_test.shape"
   ]
  },
  {
   "cell_type": "code",
   "execution_count": null,
   "metadata": {},
   "outputs": [],
   "source": [
    "X_test = x_test.reshape(n, h*w).T"
   ]
  },
  {
   "cell_type": "markdown",
   "metadata": {},
   "source": [
    "Creating model"
   ]
  },
  {
   "cell_type": "code",
   "execution_count": null,
   "metadata": {},
   "outputs": [],
   "source": [
    "from meik.models import Sequential\n",
    "from meik.layers import Layer, Dense, Dropout, Batch_norm"
   ]
  },
  {
   "cell_type": "code",
   "execution_count": null,
   "metadata": {},
   "outputs": [],
   "source": [
    "model = Sequential()"
   ]
  },
  {
   "cell_type": "code",
   "execution_count": null,
   "metadata": {},
   "outputs": [],
   "source": [
    "model.add(Dense(units=64, activation='relu', inputs=28*28))\n",
    "model.add(Batch_norm())\n",
    "model.add(Dense(units=32, activation='relu'))\n",
    "model.add(Batch_norm())\n",
    "model.add(Dense(units=16, activation='relu'))\n",
    "model.add(Batch_norm())\n",
    "model.add(Dense(units=10, activation='softmax'))"
   ]
  },
  {
   "cell_type": "code",
   "execution_count": null,
   "metadata": {},
   "outputs": [],
   "source": [
    "from meik import optimizers\n",
    "optimizer = optimizers.Adam()"
   ]
  },
  {
   "cell_type": "code",
   "execution_count": null,
   "metadata": {},
   "outputs": [],
   "source": [
    "metrics = ['accuracy', 'binary_crossentropy', 'confusion_matrix']"
   ]
  },
  {
   "cell_type": "code",
   "execution_count": null,
   "metadata": {},
   "outputs": [],
   "source": [
    "model.build(loss='categorical_crossentropy', optimizer=optimizer, eval_metrics=metrics)"
   ]
  },
  {
   "cell_type": "code",
   "execution_count": null,
   "metadata": {},
   "outputs": [],
   "source": [
    "X_train.shape"
   ]
  },
  {
   "cell_type": "code",
   "execution_count": null,
   "metadata": {},
   "outputs": [],
   "source": [
    "model.train(X_train, Y_train, batch_size=64, epochs=1, verbose=1)"
   ]
  },
  {
   "cell_type": "code",
   "execution_count": null,
   "metadata": {},
   "outputs": [],
   "source": [
    "from meik.utils.misc import plot_training_loss"
   ]
  },
  {
   "cell_type": "code",
   "execution_count": null,
   "metadata": {},
   "outputs": [],
   "source": [
    "plot_training_loss(model, loss=model.params['loss'], mode='batch')"
   ]
  },
  {
   "cell_type": "code",
   "execution_count": null,
   "metadata": {},
   "outputs": [],
   "source": [
    "score = model.evaluate(X_test,Y_test)"
   ]
  }
 ],
 "metadata": {
  "kernelspec": {
   "display_name": "Python 3",
   "language": "python",
   "name": "python3"
  },
  "language_info": {
   "codemirror_mode": {
    "name": "ipython",
    "version": 3
   },
   "file_extension": ".py",
   "mimetype": "text/x-python",
   "name": "python",
   "nbconvert_exporter": "python",
   "pygments_lexer": "ipython3",
   "version": "3.6.6"
  }
 },
 "nbformat": 4,
 "nbformat_minor": 2
}
