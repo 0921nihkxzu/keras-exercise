{
 "cells": [
  {
   "cell_type": "code",
   "execution_count": null,
   "metadata": {},
   "outputs": [],
   "source": [
    "import numpy as np\n",
    "import matplotlib.pyplot as plt\n",
    "from mpl_toolkits.mplot3d import Axes3D"
   ]
  },
  {
   "cell_type": "markdown",
   "metadata": {},
   "source": [
    "### Toy problem"
   ]
  },
  {
   "cell_type": "markdown",
   "metadata": {},
   "source": [
    "A 3D parabola as a toy problem for our neural network to solve \n",
    "\n",
    "\\begin{equation}\n",
    "y = x_1^2+x_2^2\n",
    "\\end{equation}\n"
   ]
  },
  {
   "cell_type": "code",
   "execution_count": null,
   "metadata": {},
   "outputs": [],
   "source": [
    "# obtaining data points\n",
    "x1 = np.arange(-1,1,0.05)\n",
    "x2 = np.arange(-1,1,0.05)\n",
    "X1,X2 = np.meshgrid(x1,x2)\n",
    "Y = X1**2+X2**2"
   ]
  },
  {
   "cell_type": "code",
   "execution_count": null,
   "metadata": {},
   "outputs": [],
   "source": [
    "# 3D plot for visualizing function\n",
    "fig = plt.figure()\n",
    "ax = fig.add_subplot(111, projection='3d')\n",
    "surface = ax.plot_surface(X1, X2, Y)"
   ]
  },
  {
   "cell_type": "markdown",
   "metadata": {},
   "source": [
    "#### Regression"
   ]
  },
  {
   "cell_type": "markdown",
   "metadata": {},
   "source": [
    "We can use this data as is as a regression problem,"
   ]
  },
  {
   "cell_type": "code",
   "execution_count": null,
   "metadata": {},
   "outputs": [],
   "source": [
    "# flattening data\n",
    "x1 = X1.flatten()\n",
    "x2 = X2.flatten()\n",
    "y = Y.flatten()"
   ]
  },
  {
   "cell_type": "code",
   "execution_count": null,
   "metadata": {},
   "outputs": [],
   "source": [
    "# Setting up the data for processing by DNN\n",
    "X = np.stack((x1,x2))\n",
    "Yr = y.reshape(y.shape[0],1).T"
   ]
  },
  {
   "cell_type": "markdown",
   "metadata": {},
   "source": [
    "#### Binary Classification"
   ]
  },
  {
   "cell_type": "markdown",
   "metadata": {},
   "source": [
    "We can adapt this into a binary classification problem by thresholding the data,\n",
    "\n",
    "\\begin{equation}\n",
    "Y_c = \n",
    "\\begin{cases} \n",
    "      0 & y \\leq threshold \\\\\n",
    "      1 & y > threshold \n",
    "\\end{cases}\n",
    "\\end{equation}"
   ]
  },
  {
   "cell_type": "code",
   "execution_count": null,
   "metadata": {},
   "outputs": [],
   "source": [
    "# thresholding\n",
    "Yc = Yr.copy()\n",
    "Yc[abs(Yc)>=0.5] = 1\n",
    "Yc[abs(Yc)<0.5] = 0"
   ]
  },
  {
   "cell_type": "code",
   "execution_count": null,
   "metadata": {},
   "outputs": [],
   "source": [
    "# plotting classes\n",
    "_x1 = x1.reshape(1,x1.shape[0])\n",
    "_x2 = x2.reshape(1,x2.shape[0])\n",
    "\n",
    "c11 = _x1[Yc == 0]\n",
    "c12 = _x2[Yc == 0]\n",
    "\n",
    "c21 = _x1[Yc == 1]\n",
    "c22 = _x2[Yc == 1]\n",
    "\n",
    "plt.figure()\n",
    "plt.scatter(c11,c12,c='b',s=10)\n",
    "plt.scatter(c21,c22,c='r',s=10)"
   ]
  },
  {
   "cell_type": "markdown",
   "metadata": {},
   "source": [
    "#### Multinomial classification"
   ]
  },
  {
   "cell_type": "markdown",
   "metadata": {},
   "source": [
    "We can adapt this into a multinomial classification problems by adding additional conditions,\n",
    "\n",
    "\\begin{equation}\n",
    "Y_m = \n",
    "\\begin{cases} \n",
    "      0, & x_1 \\leq 0\\ and\\ Y_c = 0\\\\\n",
    "      1, & x_1 > 0\\ and\\ Y_c = 0\\\\\n",
    "      2, & x_1 \\leq 0\\ and\\ Y_c = 1\\\\\n",
    "      3, & x_1 > 0\\ and\\ Y_c = 1\\\\ \n",
    "\\end{cases}\n",
    "\\end{equation}"
   ]
  },
  {
   "cell_type": "code",
   "execution_count": null,
   "metadata": {},
   "outputs": [],
   "source": [
    "# thresholding\n",
    "_Ym = Yc.copy()\n",
    "_Ym[(_x1 <= 0)*(Yc == 0)] = 0\n",
    "_Ym[(_x1 > 0)*(Yc == 0)] = 1\n",
    "_Ym[(_x1 <= 0)*(Yc == 1)] = 2\n",
    "_Ym[(_x1 > 0)*(Yc == 1)] = 3"
   ]
  },
  {
   "cell_type": "code",
   "execution_count": null,
   "metadata": {},
   "outputs": [],
   "source": [
    "# plotting classes\n",
    "_x1 = x1.reshape(1,x1.shape[0])\n",
    "_x2 = x2.reshape(1,x2.shape[0])\n",
    "\n",
    "c11 = _x1[_Ym == 0]\n",
    "c12 = _x2[_Ym == 0]\n",
    "\n",
    "c21 = _x1[_Ym == 1]\n",
    "c22 = _x2[_Ym == 1]\n",
    "\n",
    "c31 = _x1[_Ym == 2]\n",
    "c32 = _x2[_Ym == 2]\n",
    "\n",
    "c41 = _x1[_Ym == 3]\n",
    "c42 = _x2[_Ym == 3]\n",
    "\n",
    "plt.figure()\n",
    "plt.scatter(c11,c12,c='b',s=10)\n",
    "plt.scatter(c21,c22,c='r',s=10)\n",
    "plt.scatter(c31,c32,c='g',s=10)\n",
    "plt.scatter(c41,c42,c='y',s=10)"
   ]
  },
  {
   "cell_type": "code",
   "execution_count": null,
   "metadata": {},
   "outputs": [],
   "source": [
    "# one-hot encoding\n",
    "def one_hot_encode(y):\n",
    "    result = (y == 0)*1\n",
    "    for i in range(1, int(np.max(y)+1)):\n",
    "        result = np.append(result, (y == i)*1, axis = 0)\n",
    "    return result"
   ]
  },
  {
   "cell_type": "code",
   "execution_count": null,
   "metadata": {},
   "outputs": [],
   "source": [
    "# one-hot encoding for NN\n",
    "Ym = one_hot_encode(_Ym)"
   ]
  },
  {
   "cell_type": "markdown",
   "metadata": {},
   "source": [
    "### Vanilla neural network"
   ]
  },
  {
   "cell_type": "code",
   "execution_count": null,
   "metadata": {},
   "outputs": [],
   "source": [
    "import numpy as np\n",
    "from meik.utils.losses import *\n",
    "from meik.layers import Layer\n",
    "from meik.metrics import Metrics\n",
    "from meik.normalizers import Normalizer\n",
    "\n",
    "class Sequential:\n",
    "    \n",
    "    def __init__(self):\n",
    "        \n",
    "        self.layers = []\n",
    "        self.params = {\n",
    "            'learning_rate': None,\n",
    "            'epochs': None,\n",
    "            'loss': None,\n",
    "        }\n",
    "        \n",
    "        self.cost = []\n",
    "        self.accuracy = []\n",
    "        \n",
    "    def add(self,layer):\n",
    "        \n",
    "        assert (issubclass(type(layer), Layer))\n",
    "        \n",
    "        _id = len(self.layers)\n",
    "        if _id == 0:\n",
    "            assert(type(layer.inputs) == int), \"Provide number of inputs for initial layer\"\n",
    "            inputs = layer.inputs\n",
    "        else:\n",
    "            inputs = self.layers[-1].units\n",
    "            \n",
    "        layer.init(_id, inputs)\n",
    "        self.layers.append(layer)\n",
    "            \n",
    "    def build(self, loss = None, normalization = 'none', learning_rate = 0.01, train_metrics = ['default'], eval_metrics = ['default'], thresholds = np.array([0.5])):\n",
    "        \n",
    "        self.params['loss'] = loss\n",
    "        self.params['learning_rate'] = learning_rate\n",
    "        self.params['normalization'] = normalization\n",
    "        \n",
    "        self.normalize = Normalizer(method = normalization)\n",
    "        \n",
    "        self.metrics = Metrics(loss = loss, train_metrics = train_metrics, eval_metrics = eval_metrics, thresholds = thresholds)\n",
    "\n",
    "        # TO DO: proper optimizer objects passed to layer\n",
    "        for i in range(len(self.layers)):\n",
    "            self.layers[i].learning_rate = learning_rate\n",
    "    \n",
    "    def predict(self,X):\n",
    "        \n",
    "        layers = self.layers\n",
    "        \n",
    "        A = X\n",
    "        for i in range(len(layers)):\n",
    "            A = layers[i].forwardprop(A)\n",
    "        \n",
    "        return A\n",
    "\n",
    "    def backprop(self, Y, A):\n",
    "        \n",
    "        layers = self.layers\n",
    "        \n",
    "        dZ = A - Y\n",
    "        dA = self.layers[-1].backprop_output(dZ)\n",
    "        for i in range(len(layers)-2,-1,-1):\n",
    "            dA = layers[i].backprop(dA)\n",
    "            layers[i].update()\n",
    "            \n",
    "    def train(self, X, Y, epochs=1, verbose=1):\n",
    "        \n",
    "        layers = self.layers\n",
    "        \n",
    "        X_norm = self.normalize.train(X)\n",
    "        \n",
    "        for i in range(epochs):\n",
    "            \n",
    "            A = self.predict(X_norm)\n",
    "            self.backprop(Y, A)\n",
    "            \n",
    "            cost = self.metrics.train(Y, A)\n",
    "            self.cost.append(cost)\n",
    "            \n",
    "            if verbose == 1:\n",
    "                self.metrics.train_print(i,epochs)\n",
    "            \n",
    "        print(\"------------ Final performance ------------\\n\")\n",
    "        self.metrics.train_print(i,epochs)\n",
    "        \n",
    "    def evaluate(self, X, Y):\n",
    "        \n",
    "        X = self.normalize.evaluate(X)\n",
    "            \n",
    "        A = self.predict(X)\n",
    "        \n",
    "        score = self.metrics.evaluate(Y, A)\n",
    "        \n",
    "        self.score = score\n",
    "        \n",
    "        return score\n",
    "        "
   ]
  },
  {
   "cell_type": "markdown",
   "metadata": {},
   "source": [
    "### Binary Classification NN"
   ]
  },
  {
   "cell_type": "code",
   "execution_count": null,
   "metadata": {},
   "outputs": [],
   "source": [
    "#import numpy as np"
   ]
  },
  {
   "cell_type": "code",
   "execution_count": null,
   "metadata": {},
   "outputs": [],
   "source": [
    "from meik.models import Sequential\n",
    "from meik.layers import Layer\n",
    "from meik.layers import Dense"
   ]
  },
  {
   "cell_type": "code",
   "execution_count": null,
   "metadata": {},
   "outputs": [],
   "source": [
    "model = Sequential()"
   ]
  },
  {
   "cell_type": "code",
   "execution_count": null,
   "metadata": {},
   "outputs": [],
   "source": [
    "model.add(Dense(units=32, activation='relu', initialization='he_uniform', regularization = 'l2', inputs=2))\n",
    "model.add(Dense(units=8, activation='relu'))\n",
    "model.add(Dense(units=1, activation='sigmoid'))"
   ]
  },
  {
   "cell_type": "code",
   "execution_count": null,
   "metadata": {},
   "outputs": [],
   "source": [
    "metrics = ['binary_crossentropy', 'accuracy', 'precision', 'sensitivity', 'specificity', 'confusion_matrix', 'AUC', 'ROC']\n",
    "th = np.arange(0.0,1.0,0.1)"
   ]
  },
  {
   "cell_type": "code",
   "execution_count": null,
   "metadata": {
    "scrolled": true
   },
   "outputs": [],
   "source": [
    "model.build(loss='binary_crossentropy', normalization='none', learning_rate=1., eval_metrics = metrics, thresholds = th)"
   ]
  },
  {
   "cell_type": "code",
   "execution_count": null,
   "metadata": {},
   "outputs": [],
   "source": [
    "model.train(X,Yc,epochs=100,verbose=0)"
   ]
  },
  {
   "cell_type": "code",
   "execution_count": null,
   "metadata": {},
   "outputs": [],
   "source": [
    "model.cost[0]"
   ]
  },
  {
   "cell_type": "code",
   "execution_count": null,
   "metadata": {},
   "outputs": [],
   "source": [
    "score = model.evaluate(X,Yc)"
   ]
  },
  {
   "cell_type": "code",
   "execution_count": null,
   "metadata": {},
   "outputs": [],
   "source": [
    "#A = model.predict(X)\n",
    "#from meik.metrics import metrics_binary_classification\n",
    "#ev = metrics_binary_classification(metrics = ['accuracy', 'binary_crossentropy', 'precision', 'sensitivity', 'specificity', 'confusion_matrix', 'AUC', 'ROC'], prediction_thresholds = np.arange(0.0,1.0,0.1))\n",
    "#a = ev.evaluate(Y,A)"
   ]
  },
  {
   "cell_type": "markdown",
   "metadata": {},
   "source": [
    "### Multinomial NN"
   ]
  },
  {
   "cell_type": "code",
   "execution_count": null,
   "metadata": {},
   "outputs": [],
   "source": [
    "#from meik.models import Sequential\n",
    "from meik.layers import Layer\n",
    "from meik.layers import Dense"
   ]
  },
  {
   "cell_type": "code",
   "execution_count": null,
   "metadata": {},
   "outputs": [],
   "source": [
    "model = Sequential()"
   ]
  },
  {
   "cell_type": "code",
   "execution_count": null,
   "metadata": {},
   "outputs": [],
   "source": [
    "model.add(Dense(units=64, activation='relu', regularization='l2', inputs=2))\n",
    "model.add(Dense(units=64, activation='relu', regularization='l2'))\n",
    "model.add(Dense(units=64, activation='relu'))\n",
    "model.add(Dense(units=64, activation='relu'))\n",
    "model.add(Dense(units=32, activation='relu'))\n",
    "model.add(Dense(units=4, activation='softmax'))"
   ]
  },
  {
   "cell_type": "code",
   "execution_count": null,
   "metadata": {},
   "outputs": [],
   "source": [
    "metrics = ['accuracy', 'binary_crossentropy', 'precision', 'sensitivity', 'specificity', 'confusion_matrix', 'AUC']\n",
    "th = np.arange(0.0,1.0,0.1)"
   ]
  },
  {
   "cell_type": "code",
   "execution_count": null,
   "metadata": {},
   "outputs": [],
   "source": [
    "model.build(loss='categorical_crossentropy', normalization='normal', learning_rate=0.01, eval_metrics = metrics, thresholds = th)"
   ]
  },
  {
   "cell_type": "code",
   "execution_count": null,
   "metadata": {},
   "outputs": [],
   "source": [
    "model.train(X,Ym,epochs=1000,verbose=0)"
   ]
  },
  {
   "cell_type": "code",
   "execution_count": null,
   "metadata": {},
   "outputs": [],
   "source": [
    "score = model.evaluate(X, Ym)"
   ]
  },
  {
   "cell_type": "markdown",
   "metadata": {},
   "source": [
    "### Regression NN"
   ]
  },
  {
   "cell_type": "code",
   "execution_count": null,
   "metadata": {},
   "outputs": [],
   "source": [
    "#from meik.models import Sequential\n",
    "from meik.layers import Layer\n",
    "from meik.layers import Dense"
   ]
  },
  {
   "cell_type": "code",
   "execution_count": null,
   "metadata": {},
   "outputs": [],
   "source": [
    "model = Sequential()"
   ]
  },
  {
   "cell_type": "code",
   "execution_count": null,
   "metadata": {},
   "outputs": [],
   "source": [
    "model.add(Dense(units=64, activation='relu', regularization='l2', reg_lambda=0.001, inputs=2))\n",
    "model.add(Dense(units=32, activation='relu', regularization='l1', reg_lambda=0.001))\n",
    "model.add(Dense(units=8, activation='relu'))\n",
    "model.add(Dense(units=1, activation='linear'))"
   ]
  },
  {
   "cell_type": "code",
   "execution_count": null,
   "metadata": {},
   "outputs": [],
   "source": [
    "model.build(loss='mse', learning_rate=0.01, eval_metrics = ['mae', 'mse', 'rmse', 'r2'])"
   ]
  },
  {
   "cell_type": "code",
   "execution_count": null,
   "metadata": {},
   "outputs": [],
   "source": [
    "model.train(X,Yr,epochs=1000,verbose=0)"
   ]
  },
  {
   "cell_type": "code",
   "execution_count": null,
   "metadata": {},
   "outputs": [],
   "source": [
    "model.evaluate(X, Yr)"
   ]
  },
  {
   "cell_type": "code",
   "execution_count": null,
   "metadata": {},
   "outputs": [],
   "source": [
    "A = model.predict(X)\n",
    "np.sum((A >= 0.5) == Yc)"
   ]
  },
  {
   "cell_type": "code",
   "execution_count": null,
   "metadata": {},
   "outputs": [],
   "source": [
    "# residual plots?\n",
    "plt.figure(1)\n",
    "plt.scatter(Y.T, (Yr.T - A.T))"
   ]
  },
  {
   "cell_type": "markdown",
   "metadata": {},
   "source": [
    "### Training with Keras"
   ]
  },
  {
   "cell_type": "code",
   "execution_count": null,
   "metadata": {},
   "outputs": [],
   "source": [
    "import keras\n",
    "from keras.models import Sequential\n",
    "from keras.layers import Dense, Dropout"
   ]
  },
  {
   "cell_type": "code",
   "execution_count": null,
   "metadata": {},
   "outputs": [],
   "source": [
    "model = Sequential()\n",
    "model.add(Dense(32, input_dim=2, activation='relu'))\n",
    "model.add(Dense(8, activation='relu'))\n",
    "model.add(Dense(1, activation='sigmoid'))"
   ]
  },
  {
   "cell_type": "code",
   "execution_count": null,
   "metadata": {},
   "outputs": [],
   "source": [
    "model.compile(loss='binary_crossentropy',\n",
    "              optimizer='sgd',\n",
    "              metrics=['accuracy'])"
   ]
  },
  {
   "cell_type": "code",
   "execution_count": null,
   "metadata": {},
   "outputs": [],
   "source": [
    "model.fit(X.T, Yc.T, epochs=500)"
   ]
  },
  {
   "cell_type": "code",
   "execution_count": null,
   "metadata": {},
   "outputs": [],
   "source": []
  },
  {
   "cell_type": "code",
   "execution_count": null,
   "metadata": {},
   "outputs": [],
   "source": []
  }
 ],
 "metadata": {
  "kernelspec": {
   "display_name": "Python 3",
   "language": "python",
   "name": "python3"
  },
  "language_info": {
   "codemirror_mode": {
    "name": "ipython",
    "version": 3
   },
   "file_extension": ".py",
   "mimetype": "text/x-python",
   "name": "python",
   "nbconvert_exporter": "python",
   "pygments_lexer": "ipython3",
   "version": "3.6.6"
  }
 },
 "nbformat": 4,
 "nbformat_minor": 2
}
